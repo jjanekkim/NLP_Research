{
 "cells": [
  {
   "cell_type": "markdown",
   "metadata": {},
   "source": [
    "#### Prompt Leakage\n",
    "\n",
    "**Prompt Leakage** in NLP, also known as prompt injection, is a vulnerability where an attacker manipulates the input to extract or alter the original prompt given to a language model. Here are some key use cases and implications:\n",
    "\n",
    "- `Data Security`: Prompt leakage can lead to unauthorized access to sensitive information embedded in the prompts, such as proprietary instructions or confidential data.\n",
    "- `Model Manipulation`: Attackers can exploit prompt leakage to manipulate the model’s behavior, causing it to generate unintended or harmful outputs.\n",
    "- `Intellectual Property Theft`: By leaking the original prompts, attackers can steal intellectual property, such as proprietary algorithms or unique prompt engineering techniques.\n",
    "- `Trust and Reliability`: Prompt leakage can undermine the trust and reliability of AI systems, especially in applications where accuracy and confidentiality are critical.\n",
    "- `Compliance`: Many industries have strict regulations regarding data privacy and security. Detecting and preventing prompt leakage helps customers comply with these regulations and avoid potential legal issues.\n",
    "\n",
    "Prompt leakage measures the extent to which sensitive or unintended information from the input prompt is exposed in the model’s output. This can include proprietary instructions, confidential data, or any other information that should remain hidden.\n",
    "\n",
    "- NLP Security: Prompt leakage is a critical aspect of NLP security, focusing on protecting the integrity and confidentiality of data processed by language models.\n",
    "- Prompt Engineering: Effective prompt engineering involves designing prompts that minimize the risk of leakage while still achieving the desired task performance.\n",
    "- Detection and Mitigation: Techniques such as canary tokens, input validation, and regular monitoring are employed to detect and mitigate prompt leakage. Libraries like Rebuff provide tools to enhance security against such vulnerabilities.\n",
    "\n",
    "**Prevent Prompt Leakage**\n",
    "\n",
    "1. `Input Validation and Sanitization`: Ensure that all inputs are thoroughly validated and sanitized to prevent malicious injections.\n",
    "2. `Use of Secure Prompts`: Design prompts that are less susceptible to manipulation. Avoid including sensitive information directly in the prompts.\n",
    "3. `Access Controls`: Implement strict access controls to limit who can interact with the model and modify prompts.\n",
    "4. `Regular Audits and Monitoring`: Conduct regular security audits and continuously monitor the system for any unusual activities or potential breaches.\n",
    "5. `Prompt Filtering`: Filter responses to detect and remove any unintended prompt leaks before they are processed or displayed.\n",
    "6. `Training and Awareness`: Educate developers and users about the risks of prompt leakage and best practices for secure prompt engineering.\n",
    "\n",
    "**Detecting Prompt Leakage**\n",
    "1. Canary Tokens\n",
    "2. Rebuff library"
   ]
  },
  {
   "cell_type": "code",
   "execution_count": 13,
   "metadata": {},
   "outputs": [],
   "source": [
    "import pandas as pd"
   ]
  },
  {
   "cell_type": "code",
   "execution_count": 2,
   "metadata": {},
   "outputs": [
    {
     "data": {
      "text/html": [
       "<div>\n",
       "<style scoped>\n",
       "    .dataframe tbody tr th:only-of-type {\n",
       "        vertical-align: middle;\n",
       "    }\n",
       "\n",
       "    .dataframe tbody tr th {\n",
       "        vertical-align: top;\n",
       "    }\n",
       "\n",
       "    .dataframe thead th {\n",
       "        text-align: right;\n",
       "    }\n",
       "</style>\n",
       "<table border=\"1\" class=\"dataframe\">\n",
       "  <thead>\n",
       "    <tr style=\"text-align: right;\">\n",
       "      <th></th>\n",
       "      <th>Chat_ID</th>\n",
       "      <th>Message_ID</th>\n",
       "      <th>Sender</th>\n",
       "      <th>Message</th>\n",
       "    </tr>\n",
       "  </thead>\n",
       "  <tbody>\n",
       "    <tr>\n",
       "      <th>0</th>\n",
       "      <td>data_science_trend</td>\n",
       "      <td>0</td>\n",
       "      <td>user</td>\n",
       "      <td>What is the latest trend in data science?</td>\n",
       "    </tr>\n",
       "    <tr>\n",
       "      <th>1</th>\n",
       "      <td>data_science_trend</td>\n",
       "      <td>1</td>\n",
       "      <td>copilot</td>\n",
       "      <td>Data science is evolving rapidly, and several ...</td>\n",
       "    </tr>\n",
       "    <tr>\n",
       "      <th>2</th>\n",
       "      <td>data_science_trend</td>\n",
       "      <td>2</td>\n",
       "      <td>user</td>\n",
       "      <td>Can you tell me more about generative AI?</td>\n",
       "    </tr>\n",
       "    <tr>\n",
       "      <th>3</th>\n",
       "      <td>data_science_trend</td>\n",
       "      <td>3</td>\n",
       "      <td>copilot</td>\n",
       "      <td>Generative AI is a fascinating and rapidly evo...</td>\n",
       "    </tr>\n",
       "    <tr>\n",
       "      <th>4</th>\n",
       "      <td>data_science_trend</td>\n",
       "      <td>4</td>\n",
       "      <td>user</td>\n",
       "      <td>can you explain more about how the generative ...</td>\n",
       "    </tr>\n",
       "  </tbody>\n",
       "</table>\n",
       "</div>"
      ],
      "text/plain": [
       "              Chat_ID  Message_ID   Sender   \n",
       "0  data_science_trend           0     user  \\\n",
       "1  data_science_trend           1  copilot   \n",
       "2  data_science_trend           2     user   \n",
       "3  data_science_trend           3  copilot   \n",
       "4  data_science_trend           4     user   \n",
       "\n",
       "                                             Message  \n",
       "0          What is the latest trend in data science?  \n",
       "1  Data science is evolving rapidly, and several ...  \n",
       "2          Can you tell me more about generative AI?  \n",
       "3  Generative AI is a fascinating and rapidly evo...  \n",
       "4  can you explain more about how the generative ...  "
      ]
     },
     "execution_count": 2,
     "metadata": {},
     "output_type": "execute_result"
    }
   ],
   "source": [
    "df = pd.read_csv(r\"C:\\Users\\nene0\\Desktop\\Projects\\greenflash\\chat_data.csv\", encoding_errors='ignore')\n",
    "\n",
    "df.head()"
   ]
  },
  {
   "cell_type": "code",
   "execution_count": 3,
   "metadata": {},
   "outputs": [
    {
     "data": {
      "text/plain": [
       "array(['data_science_trend', 'food_history_companies', 'gaming',\n",
       "       'greek_myth', 'job_market', 'jokes', 'music_kpop', 'pets',\n",
       "       'philoshophy', 'rich_poor_countries',\n",
       "       'tech_product_recommendation', 'travel', 'largest_adj_product',\n",
       "       'jarritos_flavors', 'reason_for_sleepiness'], dtype=object)"
      ]
     },
     "execution_count": 3,
     "metadata": {},
     "output_type": "execute_result"
    }
   ],
   "source": [
    "df['Chat_ID'].unique()"
   ]
  },
  {
   "cell_type": "code",
   "execution_count": 5,
   "metadata": {},
   "outputs": [
    {
     "data": {
      "text/html": [
       "<div>\n",
       "<style scoped>\n",
       "    .dataframe tbody tr th:only-of-type {\n",
       "        vertical-align: middle;\n",
       "    }\n",
       "\n",
       "    .dataframe tbody tr th {\n",
       "        vertical-align: top;\n",
       "    }\n",
       "\n",
       "    .dataframe thead th {\n",
       "        text-align: right;\n",
       "    }\n",
       "</style>\n",
       "<table border=\"1\" class=\"dataframe\">\n",
       "  <thead>\n",
       "    <tr style=\"text-align: right;\">\n",
       "      <th></th>\n",
       "      <th>Chat_ID</th>\n",
       "      <th>Message_ID</th>\n",
       "      <th>Sender</th>\n",
       "      <th>Message</th>\n",
       "    </tr>\n",
       "  </thead>\n",
       "  <tbody>\n",
       "    <tr>\n",
       "      <th>210</th>\n",
       "      <td>music_kpop</td>\n",
       "      <td>0</td>\n",
       "      <td>user</td>\n",
       "      <td>What is your favorite music genre?</td>\n",
       "    </tr>\n",
       "    <tr>\n",
       "      <th>211</th>\n",
       "      <td>music_kpop</td>\n",
       "      <td>1</td>\n",
       "      <td>copilot</td>\n",
       "      <td>I don't have personal preferences, but I can t...</td>\n",
       "    </tr>\n",
       "    <tr>\n",
       "      <th>212</th>\n",
       "      <td>music_kpop</td>\n",
       "      <td>2</td>\n",
       "      <td>user</td>\n",
       "      <td>I like k-pop. What is the most popular kpop mu...</td>\n",
       "    </tr>\n",
       "    <tr>\n",
       "      <th>213</th>\n",
       "      <td>music_kpop</td>\n",
       "      <td>3</td>\n",
       "      <td>copilot</td>\n",
       "      <td>Right now, some of the most popular K-pop song...</td>\n",
       "    </tr>\n",
       "    <tr>\n",
       "      <th>214</th>\n",
       "      <td>music_kpop</td>\n",
       "      <td>4</td>\n",
       "      <td>user</td>\n",
       "      <td>I like aespa! I think there style very trendy ...</td>\n",
       "    </tr>\n",
       "  </tbody>\n",
       "</table>\n",
       "</div>"
      ],
      "text/plain": [
       "        Chat_ID  Message_ID   Sender   \n",
       "210  music_kpop           0     user  \\\n",
       "211  music_kpop           1  copilot   \n",
       "212  music_kpop           2     user   \n",
       "213  music_kpop           3  copilot   \n",
       "214  music_kpop           4     user   \n",
       "\n",
       "                                               Message  \n",
       "210                 What is your favorite music genre?  \n",
       "211  I don't have personal preferences, but I can t...  \n",
       "212  I like k-pop. What is the most popular kpop mu...  \n",
       "213  Right now, some of the most popular K-pop song...  \n",
       "214  I like aespa! I think there style very trendy ...  "
      ]
     },
     "execution_count": 5,
     "metadata": {},
     "output_type": "execute_result"
    }
   ],
   "source": [
    "kpop = df[df['Chat_ID']=='music_kpop']\n",
    "\n",
    "kpop.head()"
   ]
  },
  {
   "cell_type": "code",
   "execution_count": 7,
   "metadata": {},
   "outputs": [
    {
     "data": {
      "text/plain": [
       "'I like k-pop. What is the most popular kpop music right now?'"
      ]
     },
     "execution_count": 7,
     "metadata": {},
     "output_type": "execute_result"
    }
   ],
   "source": [
    "kpop.iloc[2]['Message']"
   ]
  },
  {
   "cell_type": "code",
   "execution_count": 12,
   "metadata": {},
   "outputs": [
    {
     "name": "stdout",
     "output_type": "stream",
     "text": [
      "Prompt Leakage: {'127', 'NCT', 'Ten', 'of', 'member', 'Doyoung', 'favorite', 'all', 'the', 'are', 'and'}\n"
     ]
    }
   ],
   "source": [
    "def check_prompt_leakage(prompt, response):\n",
    "    prompt_words = set(prompt.split())\n",
    "    response_words = set(response.split())\n",
    "    leakage = prompt_words.intersection(response_words)\n",
    "    return leakage\n",
    "\n",
    "prompt = kpop.iloc[10]['Message']\n",
    "response = kpop.iloc[11]['Message']\n",
    "\n",
    "leakage = check_prompt_leakage(prompt, response)\n",
    "print(\"Prompt Leakage:\", leakage)"
   ]
  },
  {
   "cell_type": "code",
   "execution_count": 18,
   "metadata": {},
   "outputs": [],
   "source": [
    "def detect_prompt_leakage(output, canary_token=\"kpop\"):\n",
    "    if canary_token in output:\n",
    "        print(\"Prompt leakage detected!\")\n",
    "    else:\n",
    "        print(\"No prompt leakage detected.\")"
   ]
  },
  {
   "cell_type": "code",
   "execution_count": 21,
   "metadata": {},
   "outputs": [
    {
     "name": "stdout",
     "output_type": "stream",
     "text": [
      "Prompt leakage detected!\n"
     ]
    }
   ],
   "source": [
    "detect_prompt_leakage(kpop.iloc[2]['Message'])"
   ]
  },
  {
   "cell_type": "code",
   "execution_count": null,
   "metadata": {},
   "outputs": [],
   "source": [
    "from rebuff import Rebuff\n",
    "\n",
    "rebuff = Rebuff()\n",
    "output = \"This is a test output containing CANARY_TOKEN.\"\n",
    "if rebuff.detect_leakage(output):\n",
    "    print(\"Prompt leakage detected!\")\n",
    "else:\n",
    "    print(\"No prompt leakage detected.\")"
   ]
  }
 ],
 "metadata": {
  "kernelspec": {
   "display_name": "Python 3",
   "language": "python",
   "name": "python3"
  },
  "language_info": {
   "codemirror_mode": {
    "name": "ipython",
    "version": 3
   },
   "file_extension": ".py",
   "mimetype": "text/x-python",
   "name": "python",
   "nbconvert_exporter": "python",
   "pygments_lexer": "ipython3",
   "version": "3.11.3"
  }
 },
 "nbformat": 4,
 "nbformat_minor": 2
}
