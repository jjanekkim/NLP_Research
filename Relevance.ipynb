{
 "cells": [
  {
   "cell_type": "markdown",
   "metadata": {},
   "source": [
    "# Relevance\n",
    "\n",
    "## Summary\n",
    "\n",
    "Overall, detecting relevance in this NLP research proved challenging due to the significant length discrepancy between the user's (myself) short questions and the chatbot's (Copilot) lengthy responses. Initially, TF-IDF was used to calculate relevance scores, but the results averaged around 0.19. To establish a baseline, we re-tested by mixing questions and answers. The average relevance score for the mixed chats was 0.079, showing only a slight difference from the original score, where questions and answers were not mixed.\n",
    "\n",
    "Although CountVectorizer wasn't originally intended for relevance detection, I experimented with it to explore how it would handle the large disparity in length between the user's input and the chatbot's output. However, it also failed to provide a significant difference: the original data's average score was 0.28, while the mixed data averaged 0.13.\n",
    "\n",
    "To further improve relevance detection, exploring models like Word2Vec and GloVe could provide better results."
   ]
  },
  {
   "cell_type": "markdown",
   "metadata": {},
   "source": [
    "-------------"
   ]
  },
  {
   "cell_type": "markdown",
   "metadata": {},
   "source": [
    "**Relevance** refers to the importance or pertinence of certain pieces of information within a text to a specific task or query.\n",
    "\n",
    "- `Information Retrieval (IR)`: In tasks like question answering and fact verification, relevance determines which documents or pieces of information are most pertinent to the query. An IR system retrieves relevant documents, which an NLP system then processes to extract the needed information.\n",
    "- `Text Classification`: When categorizing text documents, relevance helps identify which words or phrases are most significant for determining the category. Techniques like Layer-wise Relevance Propagation (LRP) can trace classification decisions back to individual words, highlighting their importance.\n",
    "- `Sentiment Analysis`: Relevance is used to focus on words or phrases that carry sentiment, such as positive or negative emotions, to accurately gauge the overall sentiment of a text.\n",
    "- `Named Entity Recognition (NER)`: In NER, relevance helps in identifying and classifying entities (like names, dates, and locations) within a text. The relevance of a word or phrase to a particular entity type is crucial for accurate recognition.\n",
    "- `Contextual Understanding`: Relevance is essential for understanding the context in which words are used. This helps in tasks like machine translation, where the meaning of a word can change based on its context.\n",
    "\n",
    "**Models and Techniques**\n",
    "\n",
    "- `TF-IDF` (Term Frequency-Inverse Document Frequency): This is a statistical measure used to evaluate the importance of a word in a document relative to a collection of documents. It helps in identifying the most relevant terms in a document.\n",
    "- `BM25`: An extension of the TF-IDF model, BM25 is a ranking function used by search engines to estimate the relevance of documents to a given search query.\n",
    "- `Word2Vec` and `GloVe`: These are word embedding models that capture semantic relationships between words. They can be used to measure the relevance of words in a context by comparing their vector representations.\n",
    "- `BERT` (Bidirectional Encoder Representations from Transformers): BERT is a transformer-based model that understands the context of a word in a sentence by looking at the words before and after it. It is highly effective in tasks requiring contextual relevance, such as question answering and text classification.\n",
    "\n",
    "**Why is it important?**\n",
    "\n",
    "1. Improve Accuracy\n",
    "2. Efficiency / Resource Optimization\n",
    "3. Contextual Understanding\n",
    "4. User Satisfaction\n",
    "5. Enhanced Decision-Making"
   ]
  },
  {
   "cell_type": "markdown",
   "metadata": {},
   "source": [
    "## Import Dependencies and Load Data"
   ]
  },
  {
   "cell_type": "code",
   "execution_count": 104,
   "metadata": {},
   "outputs": [],
   "source": [
    "import pandas as pd\n",
    "\n",
    "from nltk.tokenize import word_tokenize\n",
    "from nltk.corpus import stopwords\n",
    "\n",
    "from sklearn.feature_extraction.text import TfidfVectorizer, CountVectorizer\n",
    "from sklearn.metrics.pairwise import cosine_similarity"
   ]
  },
  {
   "cell_type": "code",
   "execution_count": 105,
   "metadata": {},
   "outputs": [
    {
     "data": {
      "text/html": [
       "<div>\n",
       "<style scoped>\n",
       "    .dataframe tbody tr th:only-of-type {\n",
       "        vertical-align: middle;\n",
       "    }\n",
       "\n",
       "    .dataframe tbody tr th {\n",
       "        vertical-align: top;\n",
       "    }\n",
       "\n",
       "    .dataframe thead th {\n",
       "        text-align: right;\n",
       "    }\n",
       "</style>\n",
       "<table border=\"1\" class=\"dataframe\">\n",
       "  <thead>\n",
       "    <tr style=\"text-align: right;\">\n",
       "      <th></th>\n",
       "      <th>Chat_ID</th>\n",
       "      <th>Message_ID</th>\n",
       "      <th>Sender</th>\n",
       "      <th>Message</th>\n",
       "    </tr>\n",
       "  </thead>\n",
       "  <tbody>\n",
       "    <tr>\n",
       "      <th>0</th>\n",
       "      <td>data_science_trend</td>\n",
       "      <td>0</td>\n",
       "      <td>user</td>\n",
       "      <td>What is the latest trend in data science?</td>\n",
       "    </tr>\n",
       "    <tr>\n",
       "      <th>1</th>\n",
       "      <td>data_science_trend</td>\n",
       "      <td>1</td>\n",
       "      <td>copilot</td>\n",
       "      <td>Data science is evolving rapidly, and several ...</td>\n",
       "    </tr>\n",
       "    <tr>\n",
       "      <th>2</th>\n",
       "      <td>data_science_trend</td>\n",
       "      <td>2</td>\n",
       "      <td>user</td>\n",
       "      <td>Can you tell me more about generative AI?</td>\n",
       "    </tr>\n",
       "    <tr>\n",
       "      <th>3</th>\n",
       "      <td>data_science_trend</td>\n",
       "      <td>3</td>\n",
       "      <td>copilot</td>\n",
       "      <td>Generative AI is a fascinating and rapidly evo...</td>\n",
       "    </tr>\n",
       "    <tr>\n",
       "      <th>4</th>\n",
       "      <td>data_science_trend</td>\n",
       "      <td>4</td>\n",
       "      <td>user</td>\n",
       "      <td>can you explain more about how the generative ...</td>\n",
       "    </tr>\n",
       "  </tbody>\n",
       "</table>\n",
       "</div>"
      ],
      "text/plain": [
       "              Chat_ID  Message_ID   Sender   \n",
       "0  data_science_trend           0     user  \\\n",
       "1  data_science_trend           1  copilot   \n",
       "2  data_science_trend           2     user   \n",
       "3  data_science_trend           3  copilot   \n",
       "4  data_science_trend           4     user   \n",
       "\n",
       "                                             Message  \n",
       "0          What is the latest trend in data science?  \n",
       "1  Data science is evolving rapidly, and several ...  \n",
       "2          Can you tell me more about generative AI?  \n",
       "3  Generative AI is a fascinating and rapidly evo...  \n",
       "4  can you explain more about how the generative ...  "
      ]
     },
     "execution_count": 105,
     "metadata": {},
     "output_type": "execute_result"
    }
   ],
   "source": [
    "df = pd.read_csv(r\"C:\\Users\\nene0\\Desktop\\Projects\\greenflash\\chat_data.csv\", encoding_errors='ignore')\n",
    "\n",
    "df.head()"
   ]
  },
  {
   "cell_type": "code",
   "execution_count": 106,
   "metadata": {},
   "outputs": [
    {
     "data": {
      "text/plain": [
       "array(['data_science_trend', 'food_history_companies', 'gaming',\n",
       "       'greek_myth', 'job_market', 'jokes', 'music_kpop', 'pets',\n",
       "       'philoshophy', 'rich_poor_countries',\n",
       "       'tech_product_recommendation', 'travel', 'largest_adj_product',\n",
       "       'jarritos_flavors'], dtype=object)"
      ]
     },
     "execution_count": 106,
     "metadata": {},
     "output_type": "execute_result"
    }
   ],
   "source": [
    "df['Chat_ID'].unique()"
   ]
  },
  {
   "cell_type": "code",
   "execution_count": 107,
   "metadata": {},
   "outputs": [],
   "source": [
    "dataframes = {}\n",
    "\n",
    "for id in df['Chat_ID']:\n",
    "    dataframes[id] = df[df['Chat_ID'] == id]"
   ]
  },
  {
   "cell_type": "code",
   "execution_count": 108,
   "metadata": {},
   "outputs": [],
   "source": [
    "# ds_trend = dataframes['data_science_trend'].reset_index(drop=True)\n",
    "# tech_rec = dataframes['tech_product_recommendation'].reset_index(drop=True)\n",
    "# pets = dataframes['pets'].reset_index(drop=True)\n",
    "# game = dataframes['gaming'].reset_index(drop=True)\n",
    "myth = dataframes['greek_myth'].reset_index(drop=True)"
   ]
  },
  {
   "cell_type": "code",
   "execution_count": 109,
   "metadata": {},
   "outputs": [],
   "source": [
    "# tech_rec.head()"
   ]
  },
  {
   "cell_type": "code",
   "execution_count": 110,
   "metadata": {},
   "outputs": [
    {
     "data": {
      "text/plain": [
       "'can you tell me what happen to odysseus after he returned to his home after the war?'"
      ]
     },
     "execution_count": 110,
     "metadata": {},
     "output_type": "execute_result"
    }
   ],
   "source": [
    "myth.iloc[8]['Message']"
   ]
  },
  {
   "cell_type": "code",
   "execution_count": 111,
   "metadata": {},
   "outputs": [
    {
     "data": {
      "text/plain": [
       "\"Certainly! After enduring numerous adventures and challenges on his journey home from the Trojan War, Odysseus finally returned to his homeland of Ithaca. Here's a summary of what happened next:\\n- Disguised Return: Upon arriving in Ithaca, Odysseus disguised himself as a beggar with the help of the goddess Athena. This allowed him to assess the situation at home without being recognized.\\n- Reunion with Telemachus: Odysseus first revealed his true identity to his son, Telemachus. Together, they devised a plan to deal with the suitors who had overrun their home.\\n- Penelope's Loyalty: Penelope, Odysseus's wife, had remained faithful to him despite being pressured by numerous suitors. She devised clever ways to delay remarrying, such as weaving and then secretly unraveling a shroud.\\n- The Contest of the Bow: Penelope announced a contest to the suitors: whoever could string Odysseus's great bow and shoot an arrow through twelve axe heads would win her hand. None of the suitors could accomplish the task, but Odysseus, still in disguise, succeeded effortlessly.\\n- Reclaiming His Throne: After revealing his identity, Odysseus, with the help of Telemachus and a few loyal servants, defeated the suitors in a fierce battle, reclaiming his home and throne.\\n- Reunion with Penelope: Finally, Odysseus and Penelope were joyfully reunited. Penelope tested Odysseus to ensure it was truly him by asking about their bed, which he had built himself and was immovable.\\n- Peace Restored: Athena intervened to ensure peace in Ithaca, preventing further bloodshed and helping Odysseus reestablish his rule.\\nOdysseus's return was marked by cleverness, bravery, and the enduring love and loyalty of his family. It's a fitting conclusion to his long and arduous journey.\\nIs there another part of Greek mythology or a different story you're curious about?\""
      ]
     },
     "execution_count": 111,
     "metadata": {},
     "output_type": "execute_result"
    }
   ],
   "source": [
    "myth.iloc[9]['Message']"
   ]
  },
  {
   "cell_type": "code",
   "execution_count": 112,
   "metadata": {},
   "outputs": [],
   "source": [
    "message_8 = word_tokenize(myth.iloc[8]['Message'])\n",
    "message_9 = word_tokenize(myth.iloc[9]['Message'])"
   ]
  },
  {
   "cell_type": "code",
   "execution_count": 113,
   "metadata": {},
   "outputs": [
    {
     "data": {
      "text/plain": [
       "['i',\n",
       " 'me',\n",
       " 'my',\n",
       " 'myself',\n",
       " 'we',\n",
       " 'our',\n",
       " 'ours',\n",
       " 'ourselves',\n",
       " 'you',\n",
       " \"you're\",\n",
       " \"you've\",\n",
       " \"you'll\",\n",
       " \"you'd\",\n",
       " 'your',\n",
       " 'yours',\n",
       " 'yourself',\n",
       " 'yourselves',\n",
       " 'he',\n",
       " 'him',\n",
       " 'his',\n",
       " 'himself',\n",
       " 'she',\n",
       " \"she's\",\n",
       " 'her',\n",
       " 'hers',\n",
       " 'herself',\n",
       " 'it',\n",
       " \"it's\",\n",
       " 'its',\n",
       " 'itself',\n",
       " 'they',\n",
       " 'them',\n",
       " 'their',\n",
       " 'theirs',\n",
       " 'themselves',\n",
       " 'what',\n",
       " 'which',\n",
       " 'who',\n",
       " 'whom',\n",
       " 'this',\n",
       " 'that',\n",
       " \"that'll\",\n",
       " 'these',\n",
       " 'those',\n",
       " 'am',\n",
       " 'is',\n",
       " 'are',\n",
       " 'was',\n",
       " 'were',\n",
       " 'be',\n",
       " 'been',\n",
       " 'being',\n",
       " 'have',\n",
       " 'has',\n",
       " 'had',\n",
       " 'having',\n",
       " 'do',\n",
       " 'does',\n",
       " 'did',\n",
       " 'doing',\n",
       " 'a',\n",
       " 'an',\n",
       " 'the',\n",
       " 'and',\n",
       " 'but',\n",
       " 'if',\n",
       " 'or',\n",
       " 'because',\n",
       " 'as',\n",
       " 'until',\n",
       " 'while',\n",
       " 'of',\n",
       " 'at',\n",
       " 'by',\n",
       " 'for',\n",
       " 'with',\n",
       " 'about',\n",
       " 'against',\n",
       " 'between',\n",
       " 'into',\n",
       " 'through',\n",
       " 'during',\n",
       " 'before',\n",
       " 'after',\n",
       " 'above',\n",
       " 'below',\n",
       " 'to',\n",
       " 'from',\n",
       " 'up',\n",
       " 'down',\n",
       " 'in',\n",
       " 'out',\n",
       " 'on',\n",
       " 'off',\n",
       " 'over',\n",
       " 'under',\n",
       " 'again',\n",
       " 'further',\n",
       " 'then',\n",
       " 'once',\n",
       " 'here',\n",
       " 'there',\n",
       " 'when',\n",
       " 'where',\n",
       " 'why',\n",
       " 'how',\n",
       " 'all',\n",
       " 'any',\n",
       " 'both',\n",
       " 'each',\n",
       " 'few',\n",
       " 'more',\n",
       " 'most',\n",
       " 'other',\n",
       " 'some',\n",
       " 'such',\n",
       " 'no',\n",
       " 'nor',\n",
       " 'not',\n",
       " 'only',\n",
       " 'own',\n",
       " 'same',\n",
       " 'so',\n",
       " 'than',\n",
       " 'too',\n",
       " 'very',\n",
       " 's',\n",
       " 't',\n",
       " 'can',\n",
       " 'will',\n",
       " 'just',\n",
       " 'don',\n",
       " \"don't\",\n",
       " 'should',\n",
       " \"should've\",\n",
       " 'now',\n",
       " 'd',\n",
       " 'll',\n",
       " 'm',\n",
       " 'o',\n",
       " 're',\n",
       " 've',\n",
       " 'y',\n",
       " 'ain',\n",
       " 'aren',\n",
       " \"aren't\",\n",
       " 'couldn',\n",
       " \"couldn't\",\n",
       " 'didn',\n",
       " \"didn't\",\n",
       " 'doesn',\n",
       " \"doesn't\",\n",
       " 'hadn',\n",
       " \"hadn't\",\n",
       " 'hasn',\n",
       " \"hasn't\",\n",
       " 'haven',\n",
       " \"haven't\",\n",
       " 'isn',\n",
       " \"isn't\",\n",
       " 'ma',\n",
       " 'mightn',\n",
       " \"mightn't\",\n",
       " 'mustn',\n",
       " \"mustn't\",\n",
       " 'needn',\n",
       " \"needn't\",\n",
       " 'shan',\n",
       " \"shan't\",\n",
       " 'shouldn',\n",
       " \"shouldn't\",\n",
       " 'wasn',\n",
       " \"wasn't\",\n",
       " 'weren',\n",
       " \"weren't\",\n",
       " 'won',\n",
       " \"won't\",\n",
       " 'wouldn',\n",
       " \"wouldn't\",\n",
       " \"'s\",\n",
       " \"'t\",\n",
       " \"'ll\",\n",
       " \"'d\",\n",
       " \"'re\"]"
      ]
     },
     "execution_count": 113,
     "metadata": {},
     "output_type": "execute_result"
    }
   ],
   "source": [
    "stop_words = stopwords.words('english')\n",
    "\n",
    "# Add more stopwords myself.\n",
    "stop_words.extend([\"'s\", \"'t\", \"'ll\",\"'d\",\"'re\"])\n",
    "\n",
    "stop_words"
   ]
  },
  {
   "cell_type": "code",
   "execution_count": 114,
   "metadata": {},
   "outputs": [],
   "source": [
    "symbols = [\"'\", ',', '.', '?', '!', '/', '-', '@', '#', '$', '%', '^', '&', '*', '(', ')', '[', ']', '{', '}', '_', '+', '=', ';', ':', '~', '`', '<', '>', '|']"
   ]
  },
  {
   "cell_type": "code",
   "execution_count": 115,
   "metadata": {},
   "outputs": [],
   "source": [
    "def remove_stop_words(list_words):\n",
    "    new_text = []\n",
    "    for word in list_words:\n",
    "        if word.lower() not in stop_words and word.lower() not in symbols:\n",
    "            new_text.append(word)\n",
    "    return new_text"
   ]
  },
  {
   "cell_type": "code",
   "execution_count": 116,
   "metadata": {},
   "outputs": [],
   "source": [
    "question_cleaned = remove_stop_words(message_8)\n",
    "response_cleaned = remove_stop_words(message_9)"
   ]
  },
  {
   "cell_type": "code",
   "execution_count": 117,
   "metadata": {},
   "outputs": [
    {
     "name": "stdout",
     "output_type": "stream",
     "text": [
      "345 166\n"
     ]
    }
   ],
   "source": [
    "print(len(message_9), len(response_cleaned))"
   ]
  },
  {
   "cell_type": "code",
   "execution_count": 118,
   "metadata": {},
   "outputs": [
    {
     "data": {
      "text/plain": [
       "'tell happen odysseus returned home war'"
      ]
     },
     "execution_count": 118,
     "metadata": {},
     "output_type": "execute_result"
    }
   ],
   "source": [
    "question_cleaned = ' '.join(question_cleaned)\n",
    "question_cleaned"
   ]
  },
  {
   "cell_type": "code",
   "execution_count": 119,
   "metadata": {},
   "outputs": [
    {
     "data": {
      "text/plain": [
       "'Certainly enduring numerous adventures challenges journey home Trojan War Odysseus finally returned homeland Ithaca summary happened next Disguised Return Upon arriving Ithaca Odysseus disguised beggar help goddess Athena allowed assess situation home without recognized Reunion Telemachus Odysseus first revealed true identity son Telemachus Together devised plan deal suitors overrun home Penelope Loyalty Penelope Odysseus wife remained faithful despite pressured numerous suitors devised clever ways delay remarrying weaving secretly unraveling shroud Contest Bow Penelope announced contest suitors whoever could string Odysseus great bow shoot arrow twelve axe heads would win hand None suitors could accomplish task Odysseus still disguise succeeded effortlessly Reclaiming Throne revealing identity Odysseus help Telemachus loyal servants defeated suitors fierce battle reclaiming home throne Reunion Penelope Finally Odysseus Penelope joyfully reunited Penelope tested Odysseus ensure truly asking bed built immovable Peace Restored Athena intervened ensure peace Ithaca preventing bloodshed helping Odysseus reestablish rule Odysseus return marked cleverness bravery enduring love loyalty family fitting conclusion long arduous journey another part Greek mythology different story curious'"
      ]
     },
     "execution_count": 119,
     "metadata": {},
     "output_type": "execute_result"
    }
   ],
   "source": [
    "response_cleaned = ' '.join(response_cleaned)\n",
    "response_cleaned"
   ]
  },
  {
   "cell_type": "markdown",
   "metadata": {},
   "source": [
    "#### TF-iDF"
   ]
  },
  {
   "cell_type": "code",
   "execution_count": 120,
   "metadata": {},
   "outputs": [],
   "source": [
    "def calculate_relevance_scores(df, text_column, vectorizer_type, chat_id_column):\n",
    "    # Select the vectorizer.\n",
    "    vectorizers = {'Tfidf': TfidfVectorizer(), 'Count': CountVectorizer()}\n",
    "    \n",
    "    # Initialize the vectorizer.\n",
    "    vectorizer = vectorizers.get(vectorizer_type)\n",
    "    if not vectorizer:\n",
    "        raise ValueError(\"Invalid vectorizer type. Choose 'Tfidf' or 'Count'.\")\n",
    "\n",
    "    # List to store the results.\n",
    "    results = []\n",
    "\n",
    "    # Iterate over the DataFrame.\n",
    "    for i in range(0, len(df) - 1, 2):\n",
    "        prompt = df.iloc[i][text_column]\n",
    "        response = df.iloc[i + 1][text_column]\n",
    "        chat_id = df.iloc[i][chat_id_column]\n",
    "\n",
    "        # Vectorize the text.\n",
    "        vectors = vectorizer.fit_transform([prompt, response])\n",
    "\n",
    "        # Calculate cosine similarity.\n",
    "        similarity = cosine_similarity(vectors[0], vectors[1])[0][0]\n",
    "\n",
    "        # Append the results.\n",
    "        results.append({\n",
    "            'Chat ID': chat_id,\n",
    "            'Prompt': prompt,\n",
    "            'Response': response,\n",
    "            f'{vectorizer_type} Score': similarity\n",
    "        })\n",
    "\n",
    "    results_df = pd.DataFrame(results)\n",
    "    return results_df"
   ]
  },
  {
   "cell_type": "code",
   "execution_count": 121,
   "metadata": {},
   "outputs": [
    {
     "data": {
      "text/html": [
       "<div>\n",
       "<style scoped>\n",
       "    .dataframe tbody tr th:only-of-type {\n",
       "        vertical-align: middle;\n",
       "    }\n",
       "\n",
       "    .dataframe tbody tr th {\n",
       "        vertical-align: top;\n",
       "    }\n",
       "\n",
       "    .dataframe thead th {\n",
       "        text-align: right;\n",
       "    }\n",
       "</style>\n",
       "<table border=\"1\" class=\"dataframe\">\n",
       "  <thead>\n",
       "    <tr style=\"text-align: right;\">\n",
       "      <th></th>\n",
       "      <th>Chat ID</th>\n",
       "      <th>Prompt</th>\n",
       "      <th>Response</th>\n",
       "      <th>Tfidf Score</th>\n",
       "    </tr>\n",
       "  </thead>\n",
       "  <tbody>\n",
       "    <tr>\n",
       "      <th>0</th>\n",
       "      <td>data_science_trend</td>\n",
       "      <td>What is the latest trend in data science?</td>\n",
       "      <td>Data science is evolving rapidly, and several ...</td>\n",
       "      <td>0.241213</td>\n",
       "    </tr>\n",
       "    <tr>\n",
       "      <th>1</th>\n",
       "      <td>data_science_trend</td>\n",
       "      <td>Can you tell me more about generative AI?</td>\n",
       "      <td>Generative AI is a fascinating and rapidly evo...</td>\n",
       "      <td>0.197096</td>\n",
       "    </tr>\n",
       "    <tr>\n",
       "      <th>2</th>\n",
       "      <td>data_science_trend</td>\n",
       "      <td>can you explain more about how the generative ...</td>\n",
       "      <td>Generative AI is making significant strides in...</td>\n",
       "      <td>0.307088</td>\n",
       "    </tr>\n",
       "    <tr>\n",
       "      <th>3</th>\n",
       "      <td>data_science_trend</td>\n",
       "      <td>what is data warehouse?</td>\n",
       "      <td>A data warehouse is a centralized repository t...</td>\n",
       "      <td>0.284913</td>\n",
       "    </tr>\n",
       "    <tr>\n",
       "      <th>4</th>\n",
       "      <td>data_science_trend</td>\n",
       "      <td>how is data warehouse and database different? ...</td>\n",
       "      <td>Great questions! Let's break down the differen...</td>\n",
       "      <td>0.510205</td>\n",
       "    </tr>\n",
       "    <tr>\n",
       "      <th>...</th>\n",
       "      <td>...</td>\n",
       "      <td>...</td>\n",
       "      <td>...</td>\n",
       "      <td>...</td>\n",
       "    </tr>\n",
       "    <tr>\n",
       "      <th>222</th>\n",
       "      <td>largest_adj_product</td>\n",
       "      <td>can you explain the map's callback's parameter</td>\n",
       "      <td>Certainly! In the `map` function's callback, t...</td>\n",
       "      <td>0.271834</td>\n",
       "    </tr>\n",
       "    <tr>\n",
       "      <th>223</th>\n",
       "      <td>jarritos_flavors</td>\n",
       "      <td>Jarritos is available in how many flavors?</td>\n",
       "      <td>Jarritos is a popular brand of Mexican soda th...</td>\n",
       "      <td>0.285120</td>\n",
       "    </tr>\n",
       "    <tr>\n",
       "      <th>224</th>\n",
       "      <td>jarritos_flavors</td>\n",
       "      <td>is that including previous flavors?</td>\n",
       "      <td>The list of 13 flavors that I provided include...</td>\n",
       "      <td>0.255854</td>\n",
       "    </tr>\n",
       "    <tr>\n",
       "      <th>225</th>\n",
       "      <td>jarritos_flavors</td>\n",
       "      <td>i think there were 15 flavors</td>\n",
       "      <td>I apologize for the mistake in my previous res...</td>\n",
       "      <td>0.116042</td>\n",
       "    </tr>\n",
       "    <tr>\n",
       "      <th>226</th>\n",
       "      <td>jarritos_flavors</td>\n",
       "      <td>Jarritos is officially the national soft drink...</td>\n",
       "      <td>Jarritos is a brand of soda that is originally...</td>\n",
       "      <td>0.292826</td>\n",
       "    </tr>\n",
       "  </tbody>\n",
       "</table>\n",
       "<p>227 rows × 4 columns</p>\n",
       "</div>"
      ],
      "text/plain": [
       "                 Chat ID                                             Prompt   \n",
       "0     data_science_trend          What is the latest trend in data science?  \\\n",
       "1     data_science_trend          Can you tell me more about generative AI?   \n",
       "2     data_science_trend  can you explain more about how the generative ...   \n",
       "3     data_science_trend                            what is data warehouse?   \n",
       "4     data_science_trend  how is data warehouse and database different? ...   \n",
       "..                   ...                                                ...   \n",
       "222  largest_adj_product    can you explain the map's callback's parameter    \n",
       "223     jarritos_flavors         Jarritos is available in how many flavors?   \n",
       "224     jarritos_flavors                is that including previous flavors?   \n",
       "225     jarritos_flavors                      i think there were 15 flavors   \n",
       "226     jarritos_flavors  Jarritos is officially the national soft drink...   \n",
       "\n",
       "                                              Response  Tfidf Score  \n",
       "0    Data science is evolving rapidly, and several ...     0.241213  \n",
       "1    Generative AI is a fascinating and rapidly evo...     0.197096  \n",
       "2    Generative AI is making significant strides in...     0.307088  \n",
       "3    A data warehouse is a centralized repository t...     0.284913  \n",
       "4    Great questions! Let's break down the differen...     0.510205  \n",
       "..                                                 ...          ...  \n",
       "222  Certainly! In the `map` function's callback, t...     0.271834  \n",
       "223  Jarritos is a popular brand of Mexican soda th...     0.285120  \n",
       "224  The list of 13 flavors that I provided include...     0.255854  \n",
       "225  I apologize for the mistake in my previous res...     0.116042  \n",
       "226  Jarritos is a brand of soda that is originally...     0.292826  \n",
       "\n",
       "[227 rows x 4 columns]"
      ]
     },
     "execution_count": 121,
     "metadata": {},
     "output_type": "execute_result"
    }
   ],
   "source": [
    "tfidf_df = calculate_relevance_scores(df, 'Message', 'Tfidf', 'Chat_ID')\n",
    "\n",
    "tfidf_df"
   ]
  },
  {
   "cell_type": "code",
   "execution_count": 122,
   "metadata": {},
   "outputs": [
    {
     "data": {
      "text/plain": [
       "0.1924957573369176"
      ]
     },
     "execution_count": 122,
     "metadata": {},
     "output_type": "execute_result"
    }
   ],
   "source": [
    "tfidf_df['Tfidf Score'].mean()"
   ]
  },
  {
   "cell_type": "code",
   "execution_count": 123,
   "metadata": {},
   "outputs": [
    {
     "name": "stdout",
     "output_type": "stream",
     "text": [
      "Relevance Score: 0.3016566548855146\n"
     ]
    }
   ],
   "source": [
    "prompt = myth.iloc[4]['Message']\n",
    "response = myth.iloc[5]['Message']\n",
    "\n",
    "# Vectorize the text\n",
    "vectorizer = TfidfVectorizer()\n",
    "vectors = vectorizer.fit_transform([prompt, response])\n",
    "\n",
    "# Calculate cosine similarity\n",
    "similarity = cosine_similarity(vectors[0], vectors[1])\n",
    "print(\"Relevance Score:\", similarity[0][0])\n"
   ]
  },
  {
   "cell_type": "code",
   "execution_count": 124,
   "metadata": {},
   "outputs": [
    {
     "name": "stdout",
     "output_type": "stream",
     "text": [
      "Relevance Score: 0.24003883165382503\n"
     ]
    }
   ],
   "source": [
    "prompt = question_cleaned\n",
    "response = response_cleaned\n",
    "\n",
    "# Vectorize the text\n",
    "vectorizer = TfidfVectorizer()\n",
    "vectors = vectorizer.fit_transform([prompt, response])\n",
    "\n",
    "# Calculate cosine similarity\n",
    "similarity = cosine_similarity(vectors[0], vectors[1])\n",
    "print(\"Relevance Score:\", similarity[0][0])"
   ]
  },
  {
   "cell_type": "markdown",
   "metadata": {},
   "source": [
    "#### CountVec"
   ]
  },
  {
   "cell_type": "code",
   "execution_count": 125,
   "metadata": {},
   "outputs": [
    {
     "data": {
      "text/html": [
       "<div>\n",
       "<style scoped>\n",
       "    .dataframe tbody tr th:only-of-type {\n",
       "        vertical-align: middle;\n",
       "    }\n",
       "\n",
       "    .dataframe tbody tr th {\n",
       "        vertical-align: top;\n",
       "    }\n",
       "\n",
       "    .dataframe thead th {\n",
       "        text-align: right;\n",
       "    }\n",
       "</style>\n",
       "<table border=\"1\" class=\"dataframe\">\n",
       "  <thead>\n",
       "    <tr style=\"text-align: right;\">\n",
       "      <th></th>\n",
       "      <th>Chat ID</th>\n",
       "      <th>Prompt</th>\n",
       "      <th>Response</th>\n",
       "      <th>Count Score</th>\n",
       "    </tr>\n",
       "  </thead>\n",
       "  <tbody>\n",
       "    <tr>\n",
       "      <th>0</th>\n",
       "      <td>data_science_trend</td>\n",
       "      <td>What is the latest trend in data science?</td>\n",
       "      <td>Data science is evolving rapidly, and several ...</td>\n",
       "      <td>0.371014</td>\n",
       "    </tr>\n",
       "    <tr>\n",
       "      <th>1</th>\n",
       "      <td>data_science_trend</td>\n",
       "      <td>Can you tell me more about generative AI?</td>\n",
       "      <td>Generative AI is a fascinating and rapidly evo...</td>\n",
       "      <td>0.291633</td>\n",
       "    </tr>\n",
       "    <tr>\n",
       "      <th>2</th>\n",
       "      <td>data_science_trend</td>\n",
       "      <td>can you explain more about how the generative ...</td>\n",
       "      <td>Generative AI is making significant strides in...</td>\n",
       "      <td>0.427442</td>\n",
       "    </tr>\n",
       "    <tr>\n",
       "      <th>3</th>\n",
       "      <td>data_science_trend</td>\n",
       "      <td>what is data warehouse?</td>\n",
       "      <td>A data warehouse is a centralized repository t...</td>\n",
       "      <td>0.391759</td>\n",
       "    </tr>\n",
       "    <tr>\n",
       "      <th>4</th>\n",
       "      <td>data_science_trend</td>\n",
       "      <td>how is data warehouse and database different? ...</td>\n",
       "      <td>Great questions! Let's break down the differen...</td>\n",
       "      <td>0.601456</td>\n",
       "    </tr>\n",
       "    <tr>\n",
       "      <th>...</th>\n",
       "      <td>...</td>\n",
       "      <td>...</td>\n",
       "      <td>...</td>\n",
       "      <td>...</td>\n",
       "    </tr>\n",
       "    <tr>\n",
       "      <th>222</th>\n",
       "      <td>largest_adj_product</td>\n",
       "      <td>can you explain the map's callback's parameter</td>\n",
       "      <td>Certainly! In the `map` function's callback, t...</td>\n",
       "      <td>0.367669</td>\n",
       "    </tr>\n",
       "    <tr>\n",
       "      <th>223</th>\n",
       "      <td>jarritos_flavors</td>\n",
       "      <td>Jarritos is available in how many flavors?</td>\n",
       "      <td>Jarritos is a popular brand of Mexican soda th...</td>\n",
       "      <td>0.422944</td>\n",
       "    </tr>\n",
       "    <tr>\n",
       "      <th>224</th>\n",
       "      <td>jarritos_flavors</td>\n",
       "      <td>is that including previous flavors?</td>\n",
       "      <td>The list of 13 flavors that I provided include...</td>\n",
       "      <td>0.389249</td>\n",
       "    </tr>\n",
       "    <tr>\n",
       "      <th>225</th>\n",
       "      <td>jarritos_flavors</td>\n",
       "      <td>i think there were 15 flavors</td>\n",
       "      <td>I apologize for the mistake in my previous res...</td>\n",
       "      <td>0.200000</td>\n",
       "    </tr>\n",
       "    <tr>\n",
       "      <th>226</th>\n",
       "      <td>jarritos_flavors</td>\n",
       "      <td>Jarritos is officially the national soft drink...</td>\n",
       "      <td>Jarritos is a brand of soda that is originally...</td>\n",
       "      <td>0.425971</td>\n",
       "    </tr>\n",
       "  </tbody>\n",
       "</table>\n",
       "<p>227 rows × 4 columns</p>\n",
       "</div>"
      ],
      "text/plain": [
       "                 Chat ID                                             Prompt   \n",
       "0     data_science_trend          What is the latest trend in data science?  \\\n",
       "1     data_science_trend          Can you tell me more about generative AI?   \n",
       "2     data_science_trend  can you explain more about how the generative ...   \n",
       "3     data_science_trend                            what is data warehouse?   \n",
       "4     data_science_trend  how is data warehouse and database different? ...   \n",
       "..                   ...                                                ...   \n",
       "222  largest_adj_product    can you explain the map's callback's parameter    \n",
       "223     jarritos_flavors         Jarritos is available in how many flavors?   \n",
       "224     jarritos_flavors                is that including previous flavors?   \n",
       "225     jarritos_flavors                      i think there were 15 flavors   \n",
       "226     jarritos_flavors  Jarritos is officially the national soft drink...   \n",
       "\n",
       "                                              Response  Count Score  \n",
       "0    Data science is evolving rapidly, and several ...     0.371014  \n",
       "1    Generative AI is a fascinating and rapidly evo...     0.291633  \n",
       "2    Generative AI is making significant strides in...     0.427442  \n",
       "3    A data warehouse is a centralized repository t...     0.391759  \n",
       "4    Great questions! Let's break down the differen...     0.601456  \n",
       "..                                                 ...          ...  \n",
       "222  Certainly! In the `map` function's callback, t...     0.367669  \n",
       "223  Jarritos is a popular brand of Mexican soda th...     0.422944  \n",
       "224  The list of 13 flavors that I provided include...     0.389249  \n",
       "225  I apologize for the mistake in my previous res...     0.200000  \n",
       "226  Jarritos is a brand of soda that is originally...     0.425971  \n",
       "\n",
       "[227 rows x 4 columns]"
      ]
     },
     "execution_count": 125,
     "metadata": {},
     "output_type": "execute_result"
    }
   ],
   "source": [
    "count_df = calculate_relevance_scores(df, 'Message', 'Count', 'Chat_ID')\n",
    "\n",
    "count_df"
   ]
  },
  {
   "cell_type": "code",
   "execution_count": 126,
   "metadata": {},
   "outputs": [
    {
     "data": {
      "text/plain": [
       "0.28142683226847"
      ]
     },
     "execution_count": 126,
     "metadata": {},
     "output_type": "execute_result"
    }
   ],
   "source": [
    "count_df['Count Score'].mean()"
   ]
  },
  {
   "cell_type": "code",
   "execution_count": 138,
   "metadata": {},
   "outputs": [],
   "source": [
    "chat_ids = count_df['Chat ID'].unique()"
   ]
  },
  {
   "cell_type": "code",
   "execution_count": 144,
   "metadata": {},
   "outputs": [
    {
     "data": {
      "text/html": [
       "<div>\n",
       "<style scoped>\n",
       "    .dataframe tbody tr th:only-of-type {\n",
       "        vertical-align: middle;\n",
       "    }\n",
       "\n",
       "    .dataframe tbody tr th {\n",
       "        vertical-align: top;\n",
       "    }\n",
       "\n",
       "    .dataframe thead th {\n",
       "        text-align: right;\n",
       "    }\n",
       "</style>\n",
       "<table border=\"1\" class=\"dataframe\">\n",
       "  <thead>\n",
       "    <tr style=\"text-align: right;\">\n",
       "      <th></th>\n",
       "      <th>Chat ID</th>\n",
       "      <th>Mean Score</th>\n",
       "    </tr>\n",
       "  </thead>\n",
       "  <tbody>\n",
       "    <tr>\n",
       "      <th>0</th>\n",
       "      <td>data_science_trend</td>\n",
       "      <td>0.316784</td>\n",
       "    </tr>\n",
       "    <tr>\n",
       "      <th>1</th>\n",
       "      <td>food_history_companies</td>\n",
       "      <td>0.242174</td>\n",
       "    </tr>\n",
       "    <tr>\n",
       "      <th>2</th>\n",
       "      <td>gaming</td>\n",
       "      <td>0.245524</td>\n",
       "    </tr>\n",
       "    <tr>\n",
       "      <th>3</th>\n",
       "      <td>greek_myth</td>\n",
       "      <td>0.285171</td>\n",
       "    </tr>\n",
       "    <tr>\n",
       "      <th>4</th>\n",
       "      <td>job_market</td>\n",
       "      <td>0.291066</td>\n",
       "    </tr>\n",
       "    <tr>\n",
       "      <th>5</th>\n",
       "      <td>jokes</td>\n",
       "      <td>0.148295</td>\n",
       "    </tr>\n",
       "    <tr>\n",
       "      <th>6</th>\n",
       "      <td>music_kpop</td>\n",
       "      <td>0.307146</td>\n",
       "    </tr>\n",
       "    <tr>\n",
       "      <th>7</th>\n",
       "      <td>pets</td>\n",
       "      <td>0.366047</td>\n",
       "    </tr>\n",
       "    <tr>\n",
       "      <th>8</th>\n",
       "      <td>philoshophy</td>\n",
       "      <td>0.342338</td>\n",
       "    </tr>\n",
       "    <tr>\n",
       "      <th>9</th>\n",
       "      <td>rich_poor_countries</td>\n",
       "      <td>0.179801</td>\n",
       "    </tr>\n",
       "    <tr>\n",
       "      <th>10</th>\n",
       "      <td>tech_product_recommendation</td>\n",
       "      <td>0.175855</td>\n",
       "    </tr>\n",
       "    <tr>\n",
       "      <th>11</th>\n",
       "      <td>travel</td>\n",
       "      <td>0.383298</td>\n",
       "    </tr>\n",
       "    <tr>\n",
       "      <th>12</th>\n",
       "      <td>largest_adj_product</td>\n",
       "      <td>0.364543</td>\n",
       "    </tr>\n",
       "    <tr>\n",
       "      <th>13</th>\n",
       "      <td>jarritos_flavors</td>\n",
       "      <td>0.359541</td>\n",
       "    </tr>\n",
       "  </tbody>\n",
       "</table>\n",
       "</div>"
      ],
      "text/plain": [
       "                        Chat ID  Mean Score\n",
       "0            data_science_trend    0.316784\n",
       "1        food_history_companies    0.242174\n",
       "2                        gaming    0.245524\n",
       "3                    greek_myth    0.285171\n",
       "4                    job_market    0.291066\n",
       "5                         jokes    0.148295\n",
       "6                    music_kpop    0.307146\n",
       "7                          pets    0.366047\n",
       "8                   philoshophy    0.342338\n",
       "9           rich_poor_countries    0.179801\n",
       "10  tech_product_recommendation    0.175855\n",
       "11                       travel    0.383298\n",
       "12          largest_adj_product    0.364543\n",
       "13             jarritos_flavors    0.359541"
      ]
     },
     "execution_count": 144,
     "metadata": {},
     "output_type": "execute_result"
    }
   ],
   "source": [
    "mean_scores = {}\n",
    "\n",
    "# Iterate over each unique Chat ID\n",
    "for chat_id in chat_ids:\n",
    "    mean_score = count_df[count_df['Chat ID'] == chat_id]['Count Score'].mean()\n",
    "    mean_scores[chat_id] = mean_score\n",
    "\n",
    "# Convert the dictionary to a DataFrame for better readability\n",
    "count_vec_mean_scores = pd.DataFrame(list(mean_scores.items()), columns=['Chat ID', 'Mean Score'])\n",
    "\n",
    "count_vec_mean_scores"
   ]
  },
  {
   "cell_type": "code",
   "execution_count": 145,
   "metadata": {},
   "outputs": [
    {
     "data": {
      "text/plain": [
       "0.2862558730616351"
      ]
     },
     "execution_count": 145,
     "metadata": {},
     "output_type": "execute_result"
    }
   ],
   "source": [
    "count_vec_mean_scores['Mean Score'].mean()"
   ]
  },
  {
   "cell_type": "code",
   "execution_count": 143,
   "metadata": {},
   "outputs": [
    {
     "data": {
      "text/html": [
       "<div>\n",
       "<style scoped>\n",
       "    .dataframe tbody tr th:only-of-type {\n",
       "        vertical-align: middle;\n",
       "    }\n",
       "\n",
       "    .dataframe tbody tr th {\n",
       "        vertical-align: top;\n",
       "    }\n",
       "\n",
       "    .dataframe thead th {\n",
       "        text-align: right;\n",
       "    }\n",
       "</style>\n",
       "<table border=\"1\" class=\"dataframe\">\n",
       "  <thead>\n",
       "    <tr style=\"text-align: right;\">\n",
       "      <th></th>\n",
       "      <th>Chat ID</th>\n",
       "      <th>Mean Score</th>\n",
       "    </tr>\n",
       "  </thead>\n",
       "  <tbody>\n",
       "    <tr>\n",
       "      <th>0</th>\n",
       "      <td>data_science_trend</td>\n",
       "      <td>0.228327</td>\n",
       "    </tr>\n",
       "    <tr>\n",
       "      <th>1</th>\n",
       "      <td>food_history_companies</td>\n",
       "      <td>0.164462</td>\n",
       "    </tr>\n",
       "    <tr>\n",
       "      <th>2</th>\n",
       "      <td>gaming</td>\n",
       "      <td>0.166573</td>\n",
       "    </tr>\n",
       "    <tr>\n",
       "      <th>3</th>\n",
       "      <td>greek_myth</td>\n",
       "      <td>0.197353</td>\n",
       "    </tr>\n",
       "    <tr>\n",
       "      <th>4</th>\n",
       "      <td>job_market</td>\n",
       "      <td>0.196610</td>\n",
       "    </tr>\n",
       "    <tr>\n",
       "      <th>5</th>\n",
       "      <td>jokes</td>\n",
       "      <td>0.094422</td>\n",
       "    </tr>\n",
       "    <tr>\n",
       "      <th>6</th>\n",
       "      <td>music_kpop</td>\n",
       "      <td>0.203541</td>\n",
       "    </tr>\n",
       "    <tr>\n",
       "      <th>7</th>\n",
       "      <td>pets</td>\n",
       "      <td>0.249919</td>\n",
       "    </tr>\n",
       "    <tr>\n",
       "      <th>8</th>\n",
       "      <td>philoshophy</td>\n",
       "      <td>0.236655</td>\n",
       "    </tr>\n",
       "    <tr>\n",
       "      <th>9</th>\n",
       "      <td>rich_poor_countries</td>\n",
       "      <td>0.120166</td>\n",
       "    </tr>\n",
       "    <tr>\n",
       "      <th>10</th>\n",
       "      <td>tech_product_recommendation</td>\n",
       "      <td>0.112292</td>\n",
       "    </tr>\n",
       "    <tr>\n",
       "      <th>11</th>\n",
       "      <td>travel</td>\n",
       "      <td>0.270393</td>\n",
       "    </tr>\n",
       "    <tr>\n",
       "      <th>12</th>\n",
       "      <td>largest_adj_product</td>\n",
       "      <td>0.276439</td>\n",
       "    </tr>\n",
       "    <tr>\n",
       "      <th>13</th>\n",
       "      <td>jarritos_flavors</td>\n",
       "      <td>0.237460</td>\n",
       "    </tr>\n",
       "  </tbody>\n",
       "</table>\n",
       "</div>"
      ],
      "text/plain": [
       "                        Chat ID  Mean Score\n",
       "0            data_science_trend    0.228327\n",
       "1        food_history_companies    0.164462\n",
       "2                        gaming    0.166573\n",
       "3                    greek_myth    0.197353\n",
       "4                    job_market    0.196610\n",
       "5                         jokes    0.094422\n",
       "6                    music_kpop    0.203541\n",
       "7                          pets    0.249919\n",
       "8                   philoshophy    0.236655\n",
       "9           rich_poor_countries    0.120166\n",
       "10  tech_product_recommendation    0.112292\n",
       "11                       travel    0.270393\n",
       "12          largest_adj_product    0.276439\n",
       "13             jarritos_flavors    0.237460"
      ]
     },
     "execution_count": 143,
     "metadata": {},
     "output_type": "execute_result"
    }
   ],
   "source": [
    "mean_scores = {}\n",
    "\n",
    "# Iterate over each unique Chat ID\n",
    "for chat_id in chat_ids:\n",
    "    mean_score = tfidf_df[tfidf_df['Chat ID'] == chat_id]['Tfidf Score'].mean()\n",
    "    mean_scores[chat_id] = mean_score\n",
    "\n",
    "tfidf_mean_scores = pd.DataFrame(list(mean_scores.items()), columns=['Chat ID', 'Mean Score'])\n",
    "\n",
    "tfidf_mean_scores"
   ]
  },
  {
   "cell_type": "code",
   "execution_count": 146,
   "metadata": {},
   "outputs": [
    {
     "data": {
      "text/plain": [
       "0.19675802131434292"
      ]
     },
     "execution_count": 146,
     "metadata": {},
     "output_type": "execute_result"
    }
   ],
   "source": [
    "tfidf_mean_scores['Mean Score'].mean()"
   ]
  },
  {
   "cell_type": "code",
   "execution_count": 131,
   "metadata": {},
   "outputs": [
    {
     "data": {
      "text/plain": [
       "0.31678403659638643"
      ]
     },
     "execution_count": 131,
     "metadata": {},
     "output_type": "execute_result"
    }
   ],
   "source": [
    "count_df[count_df['Chat ID']=='data_science_trend']['Count Score'].mean()"
   ]
  },
  {
   "cell_type": "code",
   "execution_count": 136,
   "metadata": {},
   "outputs": [
    {
     "data": {
      "text/plain": [
       "0.38329796765009416"
      ]
     },
     "execution_count": 136,
     "metadata": {},
     "output_type": "execute_result"
    }
   ],
   "source": [
    "count_df[count_df['Chat ID']=='travel']['Count Score'].mean()"
   ]
  },
  {
   "cell_type": "code",
   "execution_count": 127,
   "metadata": {},
   "outputs": [
    {
     "name": "stdout",
     "output_type": "stream",
     "text": [
      "Relevance Score: 0.4274951405113915\n"
     ]
    }
   ],
   "source": [
    "prompt = myth.iloc[4]['Message']\n",
    "response = myth.iloc[5]['Message']\n",
    "\n",
    "# Vectorize the text\n",
    "vectorizer = CountVectorizer()\n",
    "vectors = vectorizer.fit_transform([prompt, response])\n",
    "\n",
    "# Calculate cosine similarity\n",
    "similarity = cosine_similarity(vectors[0], vectors[1])\n",
    "print(\"Relevance Score:\", similarity[0][0])"
   ]
  },
  {
   "cell_type": "code",
   "execution_count": 128,
   "metadata": {},
   "outputs": [
    {
     "name": "stdout",
     "output_type": "stream",
     "text": [
      "Relevance Score: 0.35233633572311335\n"
     ]
    }
   ],
   "source": [
    "prompt = question_cleaned\n",
    "response = response_cleaned\n",
    "\n",
    "# Vectorize the text\n",
    "vectorizer = CountVectorizer()\n",
    "vectors = vectorizer.fit_transform([prompt, response])\n",
    "\n",
    "# Calculate cosine similarity\n",
    "similarity = cosine_similarity(vectors[0], vectors[1])\n",
    "print(\"Relevance Score:\", similarity[0][0])"
   ]
  },
  {
   "cell_type": "code",
   "execution_count": 91,
   "metadata": {},
   "outputs": [],
   "source": [
    "prompts = count_df['Prompt']\n",
    "responses = count_df['Response']"
   ]
  },
  {
   "cell_type": "code",
   "execution_count": 92,
   "metadata": {},
   "outputs": [],
   "source": [
    "mixed_response = responses.sample(frac=1).reset_index(drop=True)"
   ]
  },
  {
   "cell_type": "code",
   "execution_count": 93,
   "metadata": {},
   "outputs": [
    {
     "data": {
      "text/html": [
       "<div>\n",
       "<style scoped>\n",
       "    .dataframe tbody tr th:only-of-type {\n",
       "        vertical-align: middle;\n",
       "    }\n",
       "\n",
       "    .dataframe tbody tr th {\n",
       "        vertical-align: top;\n",
       "    }\n",
       "\n",
       "    .dataframe thead th {\n",
       "        text-align: right;\n",
       "    }\n",
       "</style>\n",
       "<table border=\"1\" class=\"dataframe\">\n",
       "  <thead>\n",
       "    <tr style=\"text-align: right;\">\n",
       "      <th></th>\n",
       "      <th>Prompt</th>\n",
       "      <th>Response</th>\n",
       "    </tr>\n",
       "  </thead>\n",
       "  <tbody>\n",
       "    <tr>\n",
       "      <th>0</th>\n",
       "      <td>What is the latest trend in data science?</td>\n",
       "      <td>Great job! You got most of them right. Here ar...</td>\n",
       "    </tr>\n",
       "    <tr>\n",
       "      <th>1</th>\n",
       "      <td>Can you tell me more about generative AI?</td>\n",
       "      <td>Dubai offers a rich culinary scene with a mix ...</td>\n",
       "    </tr>\n",
       "    <tr>\n",
       "      <th>2</th>\n",
       "      <td>can you explain more about how the generative ...</td>\n",
       "      <td>That sounds great! I'm sure you'll have a lot ...</td>\n",
       "    </tr>\n",
       "    <tr>\n",
       "      <th>3</th>\n",
       "      <td>what is data warehouse?</td>\n",
       "      <td>Your belief in God and the sense of wonder you...</td>\n",
       "    </tr>\n",
       "    <tr>\n",
       "      <th>4</th>\n",
       "      <td>how is data warehouse and database different? ...</td>\n",
       "      <td>There are so many delightful treats that pair ...</td>\n",
       "    </tr>\n",
       "    <tr>\n",
       "      <th>...</th>\n",
       "      <td>...</td>\n",
       "      <td>...</td>\n",
       "    </tr>\n",
       "    <tr>\n",
       "      <th>222</th>\n",
       "      <td>can you explain the map's callback's parameter</td>\n",
       "      <td>It's never too late to pursue your passions, b...</td>\n",
       "    </tr>\n",
       "    <tr>\n",
       "      <th>223</th>\n",
       "      <td>Jarritos is available in how many flavors?</td>\n",
       "      <td>Certainly! After enduring numerous adventures ...</td>\n",
       "    </tr>\n",
       "    <tr>\n",
       "      <th>224</th>\n",
       "      <td>is that including previous flavors?</td>\n",
       "      <td>Many food companies are taking significant ste...</td>\n",
       "    </tr>\n",
       "    <tr>\n",
       "      <th>225</th>\n",
       "      <td>i think there were 15 flavors</td>\n",
       "      <td>Certainly! ETL stands for Extract, Transform, ...</td>\n",
       "    </tr>\n",
       "    <tr>\n",
       "      <th>226</th>\n",
       "      <td>Jarritos is officially the national soft drink...</td>\n",
       "      <td>Reducing greed is indeed a challenging task, b...</td>\n",
       "    </tr>\n",
       "  </tbody>\n",
       "</table>\n",
       "<p>227 rows × 2 columns</p>\n",
       "</div>"
      ],
      "text/plain": [
       "                                                Prompt   \n",
       "0            What is the latest trend in data science?  \\\n",
       "1            Can you tell me more about generative AI?   \n",
       "2    can you explain more about how the generative ...   \n",
       "3                              what is data warehouse?   \n",
       "4    how is data warehouse and database different? ...   \n",
       "..                                                 ...   \n",
       "222    can you explain the map's callback's parameter    \n",
       "223         Jarritos is available in how many flavors?   \n",
       "224                is that including previous flavors?   \n",
       "225                      i think there were 15 flavors   \n",
       "226  Jarritos is officially the national soft drink...   \n",
       "\n",
       "                                              Response  \n",
       "0    Great job! You got most of them right. Here ar...  \n",
       "1    Dubai offers a rich culinary scene with a mix ...  \n",
       "2    That sounds great! I'm sure you'll have a lot ...  \n",
       "3    Your belief in God and the sense of wonder you...  \n",
       "4    There are so many delightful treats that pair ...  \n",
       "..                                                 ...  \n",
       "222  It's never too late to pursue your passions, b...  \n",
       "223  Certainly! After enduring numerous adventures ...  \n",
       "224  Many food companies are taking significant ste...  \n",
       "225  Certainly! ETL stands for Extract, Transform, ...  \n",
       "226  Reducing greed is indeed a challenging task, b...  \n",
       "\n",
       "[227 rows x 2 columns]"
      ]
     },
     "execution_count": 93,
     "metadata": {},
     "output_type": "execute_result"
    }
   ],
   "source": [
    "mixed_df = pd.concat([prompts, mixed_response], axis=1)\n",
    "mixed_df"
   ]
  },
  {
   "cell_type": "code",
   "execution_count": 94,
   "metadata": {},
   "outputs": [],
   "source": [
    "def calculate_relevance_scores_mixed(df, prompts, responses, vectorizer_type):\n",
    "\n",
    "    vectorizers = {'Tfidf': TfidfVectorizer(), 'Count': CountVectorizer()}\n",
    "    \n",
    "    vectorizer = vectorizers.get(vectorizer_type)\n",
    "    if not vectorizer:\n",
    "        raise ValueError(\"Invalid vectorizer type. Choose 'Tfidf' or 'Count'.\")\n",
    "\n",
    "    results = []\n",
    "\n",
    "    for index, row in df.iterrows():\n",
    "        prompt = row[prompts]\n",
    "        response = row[responses]\n",
    "\n",
    "        vectors = vectorizer.fit_transform([prompt, response])\n",
    "        similarity = cosine_similarity(vectors[0], vectors[1])[0][0]\n",
    "\n",
    "        results.append(similarity)\n",
    "\n",
    "    df[f'{vectorizer_type} Score'] = results\n",
    "    return df"
   ]
  },
  {
   "cell_type": "code",
   "execution_count": 95,
   "metadata": {},
   "outputs": [
    {
     "data": {
      "text/html": [
       "<div>\n",
       "<style scoped>\n",
       "    .dataframe tbody tr th:only-of-type {\n",
       "        vertical-align: middle;\n",
       "    }\n",
       "\n",
       "    .dataframe tbody tr th {\n",
       "        vertical-align: top;\n",
       "    }\n",
       "\n",
       "    .dataframe thead th {\n",
       "        text-align: right;\n",
       "    }\n",
       "</style>\n",
       "<table border=\"1\" class=\"dataframe\">\n",
       "  <thead>\n",
       "    <tr style=\"text-align: right;\">\n",
       "      <th></th>\n",
       "      <th>Prompt</th>\n",
       "      <th>Response</th>\n",
       "      <th>Tfidf Score</th>\n",
       "    </tr>\n",
       "  </thead>\n",
       "  <tbody>\n",
       "    <tr>\n",
       "      <th>0</th>\n",
       "      <td>What is the latest trend in data science?</td>\n",
       "      <td>Great job! You got most of them right. Here ar...</td>\n",
       "      <td>0.144905</td>\n",
       "    </tr>\n",
       "    <tr>\n",
       "      <th>1</th>\n",
       "      <td>Can you tell me more about generative AI?</td>\n",
       "      <td>Dubai offers a rich culinary scene with a mix ...</td>\n",
       "      <td>0.019090</td>\n",
       "    </tr>\n",
       "    <tr>\n",
       "      <th>2</th>\n",
       "      <td>can you explain more about how the generative ...</td>\n",
       "      <td>That sounds great! I'm sure you'll have a lot ...</td>\n",
       "      <td>0.131414</td>\n",
       "    </tr>\n",
       "    <tr>\n",
       "      <th>3</th>\n",
       "      <td>what is data warehouse?</td>\n",
       "      <td>Your belief in God and the sense of wonder you...</td>\n",
       "      <td>0.027737</td>\n",
       "    </tr>\n",
       "    <tr>\n",
       "      <th>4</th>\n",
       "      <td>how is data warehouse and database different? ...</td>\n",
       "      <td>There are so many delightful treats that pair ...</td>\n",
       "      <td>0.068216</td>\n",
       "    </tr>\n",
       "    <tr>\n",
       "      <th>...</th>\n",
       "      <td>...</td>\n",
       "      <td>...</td>\n",
       "      <td>...</td>\n",
       "    </tr>\n",
       "    <tr>\n",
       "      <th>222</th>\n",
       "      <td>can you explain the map's callback's parameter</td>\n",
       "      <td>It's never too late to pursue your passions, b...</td>\n",
       "      <td>0.071132</td>\n",
       "    </tr>\n",
       "    <tr>\n",
       "      <th>223</th>\n",
       "      <td>Jarritos is available in how many flavors?</td>\n",
       "      <td>Certainly! After enduring numerous adventures ...</td>\n",
       "      <td>0.031653</td>\n",
       "    </tr>\n",
       "    <tr>\n",
       "      <th>224</th>\n",
       "      <td>is that including previous flavors?</td>\n",
       "      <td>Many food companies are taking significant ste...</td>\n",
       "      <td>0.034865</td>\n",
       "    </tr>\n",
       "    <tr>\n",
       "      <th>225</th>\n",
       "      <td>i think there were 15 flavors</td>\n",
       "      <td>Certainly! ETL stands for Extract, Transform, ...</td>\n",
       "      <td>0.000000</td>\n",
       "    </tr>\n",
       "    <tr>\n",
       "      <th>226</th>\n",
       "      <td>Jarritos is officially the national soft drink...</td>\n",
       "      <td>Reducing greed is indeed a challenging task, b...</td>\n",
       "      <td>0.088020</td>\n",
       "    </tr>\n",
       "  </tbody>\n",
       "</table>\n",
       "<p>227 rows × 3 columns</p>\n",
       "</div>"
      ],
      "text/plain": [
       "                                                Prompt   \n",
       "0            What is the latest trend in data science?  \\\n",
       "1            Can you tell me more about generative AI?   \n",
       "2    can you explain more about how the generative ...   \n",
       "3                              what is data warehouse?   \n",
       "4    how is data warehouse and database different? ...   \n",
       "..                                                 ...   \n",
       "222    can you explain the map's callback's parameter    \n",
       "223         Jarritos is available in how many flavors?   \n",
       "224                is that including previous flavors?   \n",
       "225                      i think there were 15 flavors   \n",
       "226  Jarritos is officially the national soft drink...   \n",
       "\n",
       "                                              Response  Tfidf Score  \n",
       "0    Great job! You got most of them right. Here ar...     0.144905  \n",
       "1    Dubai offers a rich culinary scene with a mix ...     0.019090  \n",
       "2    That sounds great! I'm sure you'll have a lot ...     0.131414  \n",
       "3    Your belief in God and the sense of wonder you...     0.027737  \n",
       "4    There are so many delightful treats that pair ...     0.068216  \n",
       "..                                                 ...          ...  \n",
       "222  It's never too late to pursue your passions, b...     0.071132  \n",
       "223  Certainly! After enduring numerous adventures ...     0.031653  \n",
       "224  Many food companies are taking significant ste...     0.034865  \n",
       "225  Certainly! ETL stands for Extract, Transform, ...     0.000000  \n",
       "226  Reducing greed is indeed a challenging task, b...     0.088020  \n",
       "\n",
       "[227 rows x 3 columns]"
      ]
     },
     "execution_count": 95,
     "metadata": {},
     "output_type": "execute_result"
    }
   ],
   "source": [
    "mixed_tfidf_score = calculate_relevance_scores_mixed(mixed_df, 'Prompt', 'Response', 'Tfidf')\n",
    "\n",
    "mixed_tfidf_score"
   ]
  },
  {
   "cell_type": "code",
   "execution_count": 101,
   "metadata": {},
   "outputs": [
    {
     "data": {
      "text/plain": [
       "0.07913862554870874"
      ]
     },
     "execution_count": 101,
     "metadata": {},
     "output_type": "execute_result"
    }
   ],
   "source": [
    "mixed_tfidf_score['Tfidf Score'].mean()"
   ]
  },
  {
   "cell_type": "code",
   "execution_count": 97,
   "metadata": {},
   "outputs": [
    {
     "data": {
      "text/html": [
       "<div>\n",
       "<style scoped>\n",
       "    .dataframe tbody tr th:only-of-type {\n",
       "        vertical-align: middle;\n",
       "    }\n",
       "\n",
       "    .dataframe tbody tr th {\n",
       "        vertical-align: top;\n",
       "    }\n",
       "\n",
       "    .dataframe thead th {\n",
       "        text-align: right;\n",
       "    }\n",
       "</style>\n",
       "<table border=\"1\" class=\"dataframe\">\n",
       "  <thead>\n",
       "    <tr style=\"text-align: right;\">\n",
       "      <th></th>\n",
       "      <th>Prompt</th>\n",
       "      <th>Response</th>\n",
       "      <th>Tfidf Score</th>\n",
       "      <th>Count Score</th>\n",
       "    </tr>\n",
       "  </thead>\n",
       "  <tbody>\n",
       "    <tr>\n",
       "      <th>0</th>\n",
       "      <td>What is the latest trend in data science?</td>\n",
       "      <td>Great job! You got most of them right. Here ar...</td>\n",
       "      <td>0.144905</td>\n",
       "      <td>0.246332</td>\n",
       "    </tr>\n",
       "    <tr>\n",
       "      <th>1</th>\n",
       "      <td>Can you tell me more about generative AI?</td>\n",
       "      <td>Dubai offers a rich culinary scene with a mix ...</td>\n",
       "      <td>0.019090</td>\n",
       "      <td>0.035258</td>\n",
       "    </tr>\n",
       "    <tr>\n",
       "      <th>2</th>\n",
       "      <td>can you explain more about how the generative ...</td>\n",
       "      <td>That sounds great! I'm sure you'll have a lot ...</td>\n",
       "      <td>0.131414</td>\n",
       "      <td>0.222783</td>\n",
       "    </tr>\n",
       "    <tr>\n",
       "      <th>3</th>\n",
       "      <td>what is data warehouse?</td>\n",
       "      <td>Your belief in God and the sense of wonder you...</td>\n",
       "      <td>0.027737</td>\n",
       "      <td>0.051164</td>\n",
       "    </tr>\n",
       "    <tr>\n",
       "      <th>4</th>\n",
       "      <td>how is data warehouse and database different? ...</td>\n",
       "      <td>There are so many delightful treats that pair ...</td>\n",
       "      <td>0.068216</td>\n",
       "      <td>0.121630</td>\n",
       "    </tr>\n",
       "    <tr>\n",
       "      <th>...</th>\n",
       "      <td>...</td>\n",
       "      <td>...</td>\n",
       "      <td>...</td>\n",
       "      <td>...</td>\n",
       "    </tr>\n",
       "    <tr>\n",
       "      <th>222</th>\n",
       "      <td>can you explain the map's callback's parameter</td>\n",
       "      <td>It's never too late to pursue your passions, b...</td>\n",
       "      <td>0.071132</td>\n",
       "      <td>0.127702</td>\n",
       "    </tr>\n",
       "    <tr>\n",
       "      <th>223</th>\n",
       "      <td>Jarritos is available in how many flavors?</td>\n",
       "      <td>Certainly! After enduring numerous adventures ...</td>\n",
       "      <td>0.031653</td>\n",
       "      <td>0.057720</td>\n",
       "    </tr>\n",
       "    <tr>\n",
       "      <th>224</th>\n",
       "      <td>is that including previous flavors?</td>\n",
       "      <td>Many food companies are taking significant ste...</td>\n",
       "      <td>0.034865</td>\n",
       "      <td>0.061499</td>\n",
       "    </tr>\n",
       "    <tr>\n",
       "      <th>225</th>\n",
       "      <td>i think there were 15 flavors</td>\n",
       "      <td>Certainly! ETL stands for Extract, Transform, ...</td>\n",
       "      <td>0.000000</td>\n",
       "      <td>0.000000</td>\n",
       "    </tr>\n",
       "    <tr>\n",
       "      <th>226</th>\n",
       "      <td>Jarritos is officially the national soft drink...</td>\n",
       "      <td>Reducing greed is indeed a challenging task, b...</td>\n",
       "      <td>0.088020</td>\n",
       "      <td>0.152543</td>\n",
       "    </tr>\n",
       "  </tbody>\n",
       "</table>\n",
       "<p>227 rows × 4 columns</p>\n",
       "</div>"
      ],
      "text/plain": [
       "                                                Prompt   \n",
       "0            What is the latest trend in data science?  \\\n",
       "1            Can you tell me more about generative AI?   \n",
       "2    can you explain more about how the generative ...   \n",
       "3                              what is data warehouse?   \n",
       "4    how is data warehouse and database different? ...   \n",
       "..                                                 ...   \n",
       "222    can you explain the map's callback's parameter    \n",
       "223         Jarritos is available in how many flavors?   \n",
       "224                is that including previous flavors?   \n",
       "225                      i think there were 15 flavors   \n",
       "226  Jarritos is officially the national soft drink...   \n",
       "\n",
       "                                              Response  Tfidf Score   \n",
       "0    Great job! You got most of them right. Here ar...     0.144905  \\\n",
       "1    Dubai offers a rich culinary scene with a mix ...     0.019090   \n",
       "2    That sounds great! I'm sure you'll have a lot ...     0.131414   \n",
       "3    Your belief in God and the sense of wonder you...     0.027737   \n",
       "4    There are so many delightful treats that pair ...     0.068216   \n",
       "..                                                 ...          ...   \n",
       "222  It's never too late to pursue your passions, b...     0.071132   \n",
       "223  Certainly! After enduring numerous adventures ...     0.031653   \n",
       "224  Many food companies are taking significant ste...     0.034865   \n",
       "225  Certainly! ETL stands for Extract, Transform, ...     0.000000   \n",
       "226  Reducing greed is indeed a challenging task, b...     0.088020   \n",
       "\n",
       "     Count Score  \n",
       "0       0.246332  \n",
       "1       0.035258  \n",
       "2       0.222783  \n",
       "3       0.051164  \n",
       "4       0.121630  \n",
       "..           ...  \n",
       "222     0.127702  \n",
       "223     0.057720  \n",
       "224     0.061499  \n",
       "225     0.000000  \n",
       "226     0.152543  \n",
       "\n",
       "[227 rows x 4 columns]"
      ]
     },
     "execution_count": 97,
     "metadata": {},
     "output_type": "execute_result"
    }
   ],
   "source": [
    "mixed_count_score = calculate_relevance_scores_mixed(mixed_df, 'Prompt', 'Response', 'Count')\n",
    "\n",
    "mixed_count_score"
   ]
  },
  {
   "cell_type": "code",
   "execution_count": 100,
   "metadata": {},
   "outputs": [
    {
     "data": {
      "text/plain": [
       "0.13269860145015505"
      ]
     },
     "execution_count": 100,
     "metadata": {},
     "output_type": "execute_result"
    }
   ],
   "source": [
    "mixed_count_score['Count Score'].mean()"
   ]
  },
  {
   "cell_type": "markdown",
   "metadata": {},
   "source": [
    "## Result"
   ]
  },
  {
   "cell_type": "code",
   "execution_count": 147,
   "metadata": {},
   "outputs": [
    {
     "data": {
      "text/html": [
       "<div>\n",
       "<style scoped>\n",
       "    .dataframe tbody tr th:only-of-type {\n",
       "        vertical-align: middle;\n",
       "    }\n",
       "\n",
       "    .dataframe tbody tr th {\n",
       "        vertical-align: top;\n",
       "    }\n",
       "\n",
       "    .dataframe thead th {\n",
       "        text-align: right;\n",
       "    }\n",
       "</style>\n",
       "<table border=\"1\" class=\"dataframe\">\n",
       "  <thead>\n",
       "    <tr style=\"text-align: right;\">\n",
       "      <th></th>\n",
       "      <th>TFiDF Avg</th>\n",
       "      <th>CountVec Avg</th>\n",
       "      <th>TFiDF_mixed Avg</th>\n",
       "      <th>CountVec_mixed Avg</th>\n",
       "    </tr>\n",
       "  </thead>\n",
       "  <tbody>\n",
       "    <tr>\n",
       "      <th>0</th>\n",
       "      <td>0.196758</td>\n",
       "      <td>0.286256</td>\n",
       "      <td>0.079139</td>\n",
       "      <td>0.132699</td>\n",
       "    </tr>\n",
       "  </tbody>\n",
       "</table>\n",
       "</div>"
      ],
      "text/plain": [
       "   TFiDF Avg  CountVec Avg  TFiDF_mixed Avg  CountVec_mixed Avg\n",
       "0   0.196758      0.286256         0.079139            0.132699"
      ]
     },
     "execution_count": 147,
     "metadata": {},
     "output_type": "execute_result"
    }
   ],
   "source": [
    "pd.DataFrame({'TFiDF Avg': tfidf_mean_scores['Mean Score'].mean(),\n",
    "              'CountVec Avg': count_vec_mean_scores['Mean Score'].mean(),\n",
    "              'TFiDF_mixed Avg': mixed_tfidf_score['Tfidf Score'].mean(),\n",
    "              'CountVec_mixed Avg': mixed_count_score['Count Score'].mean()}, index=[0])"
   ]
  }
 ],
 "metadata": {
  "kernelspec": {
   "display_name": "Python 3",
   "language": "python",
   "name": "python3"
  },
  "language_info": {
   "codemirror_mode": {
    "name": "ipython",
    "version": 3
   },
   "file_extension": ".py",
   "mimetype": "text/x-python",
   "name": "python",
   "nbconvert_exporter": "python",
   "pygments_lexer": "ipython3",
   "version": "3.11.3"
  }
 },
 "nbformat": 4,
 "nbformat_minor": 2
}
