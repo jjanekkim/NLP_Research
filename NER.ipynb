{
 "cells": [
  {
   "cell_type": "markdown",
   "metadata": {},
   "source": [
    "#### Named Entity Recognition (NER)\n",
    "**Named Entity Recognition (NER)** is an NLP technique that identifies and classifies named entities in text into predefined categories such as person names, organizations, locations, dates, and more. The goal is to transform unstructured text into structured data by tagging these entities, making it easier to analyze and extract meaningful information. NER is widely used in various applications, including:\n",
    "\n",
    "- `Information extraction`: Pulling out specific data from large text corpora.\n",
    "- `Question answering`: Enhancing the accuracy of responses by identifying relevant entities.\n",
    "- `Sentiment analysis`: Understanding the sentiment towards specific entities.\n",
    "- `Text summarization`: Highlighting key entities in a summary.\n",
    "\n",
    "**Use Cases**\n",
    "\n",
    "- `Information Extraction`: NER helps in extracting specific information from large volumes of text, such as identifying names of people, organizations, locations, dates, and more. This is particularly useful in fields like journalism and research.\n",
    "- `Customer Support`: By identifying key entities in customer queries, NER can help chatbots and automated systems provide more accurate and relevant responses, improving customer service efficiency.\n",
    "- `Sentiment Analysis`: NER can enhance sentiment analysis by pinpointing the entities being discussed, allowing for more precise sentiment scoring related to specific products, services, or individuals.\n",
    "- `Question Answering Systems`: NER is crucial in developing systems that can understand and respond to user questions by identifying the entities involved in the query.\n",
    "- `Financial Analysis`: In the finance sector, NER can be used to extract important data from financial reports, news articles, and other documents, aiding in trend analysis and risk assessment.\n",
    "- `Content Recommendation`: By recognizing entities within text, NER can improve recommendation systems, suggesting relevant content based on identified entities.\n",
    "\n",
    "**Models**\n",
    "- spaCy\n",
    "- Stanford's CoreNLP\n",
    "- Flair\n",
    "\n",
    "**Why is NER important?**\n",
    "\n",
    "1. Enhanced Information Retrieval: NER helps customers quickly find relevant information by highlighting key entities in large volumes of text. This is particularly useful in fields like journalism, legal research, and customer support.\n",
    "2. Improved Decision-Making: By extracting critical entities from documents, reports, and articles, NER enables customers to make informed decisions based on accurate and relevant data.\n",
    "3. Automation and Efficiency: NER automates the process of identifying important entities, reducing the need for manual data extraction and saving time and resources.\n",
    "4. Personalization: In customer service and marketing, NER can be used to tailor responses and recommendations based on identified entities, enhancing the customer experience."
   ]
  },
  {
   "cell_type": "code",
   "execution_count": 22,
   "metadata": {},
   "outputs": [],
   "source": [
    "import pandas as pd\n",
    "\n",
    "pd.options.mode.chained_assignment = None\n",
    "pd.set_option('display.max_colwidth', None)\n",
    "\n",
    "# SpaCy\n",
    "import spacy\n",
    "from spacy import displacy\n",
    "\n",
    "# Flair\n",
    "from flair.data import Sentence\n",
    "from flair.models import SequenceTagger"
   ]
  },
  {
   "cell_type": "code",
   "execution_count": 2,
   "metadata": {},
   "outputs": [
    {
     "data": {
      "text/html": [
       "<div>\n",
       "<style scoped>\n",
       "    .dataframe tbody tr th:only-of-type {\n",
       "        vertical-align: middle;\n",
       "    }\n",
       "\n",
       "    .dataframe tbody tr th {\n",
       "        vertical-align: top;\n",
       "    }\n",
       "\n",
       "    .dataframe thead th {\n",
       "        text-align: right;\n",
       "    }\n",
       "</style>\n",
       "<table border=\"1\" class=\"dataframe\">\n",
       "  <thead>\n",
       "    <tr style=\"text-align: right;\">\n",
       "      <th></th>\n",
       "      <th>Chat_ID</th>\n",
       "      <th>Message_ID</th>\n",
       "      <th>Sender</th>\n",
       "      <th>Message</th>\n",
       "    </tr>\n",
       "  </thead>\n",
       "  <tbody>\n",
       "    <tr>\n",
       "      <th>0</th>\n",
       "      <td>data_science_trend</td>\n",
       "      <td>0</td>\n",
       "      <td>user</td>\n",
       "      <td>What is the latest trend in data science?</td>\n",
       "    </tr>\n",
       "    <tr>\n",
       "      <th>1</th>\n",
       "      <td>data_science_trend</td>\n",
       "      <td>1</td>\n",
       "      <td>copilot</td>\n",
       "      <td>Data science is evolving rapidly, and several ...</td>\n",
       "    </tr>\n",
       "    <tr>\n",
       "      <th>2</th>\n",
       "      <td>data_science_trend</td>\n",
       "      <td>2</td>\n",
       "      <td>user</td>\n",
       "      <td>Can you tell me more about generative AI?</td>\n",
       "    </tr>\n",
       "    <tr>\n",
       "      <th>3</th>\n",
       "      <td>data_science_trend</td>\n",
       "      <td>3</td>\n",
       "      <td>copilot</td>\n",
       "      <td>Generative AI is a fascinating and rapidly evo...</td>\n",
       "    </tr>\n",
       "    <tr>\n",
       "      <th>4</th>\n",
       "      <td>data_science_trend</td>\n",
       "      <td>4</td>\n",
       "      <td>user</td>\n",
       "      <td>can you explain more about how the generative ...</td>\n",
       "    </tr>\n",
       "  </tbody>\n",
       "</table>\n",
       "</div>"
      ],
      "text/plain": [
       "              Chat_ID  Message_ID   Sender   \n",
       "0  data_science_trend           0     user  \\\n",
       "1  data_science_trend           1  copilot   \n",
       "2  data_science_trend           2     user   \n",
       "3  data_science_trend           3  copilot   \n",
       "4  data_science_trend           4     user   \n",
       "\n",
       "                                             Message  \n",
       "0          What is the latest trend in data science?  \n",
       "1  Data science is evolving rapidly, and several ...  \n",
       "2          Can you tell me more about generative AI?  \n",
       "3  Generative AI is a fascinating and rapidly evo...  \n",
       "4  can you explain more about how the generative ...  "
      ]
     },
     "execution_count": 2,
     "metadata": {},
     "output_type": "execute_result"
    }
   ],
   "source": [
    "df = pd.read_csv(r\"C:\\Users\\nene0\\Desktop\\Projects\\greenflash\\chat_data.csv\", encoding_errors='ignore')\n",
    "\n",
    "df.head()"
   ]
  },
  {
   "cell_type": "code",
   "execution_count": 3,
   "metadata": {},
   "outputs": [
    {
     "data": {
      "text/plain": [
       "array(['data_science_trend', 'food_history_companies', 'gaming',\n",
       "       'greek_myth', 'job_market', 'jokes', 'music_kpop', 'pets',\n",
       "       'philoshophy', 'rich_poor_countries',\n",
       "       'tech_product_recommendation', 'travel', 'largest_adj_product',\n",
       "       'jarritos_flavors', 'reason_for_sleepiness'], dtype=object)"
      ]
     },
     "execution_count": 3,
     "metadata": {},
     "output_type": "execute_result"
    }
   ],
   "source": [
    "df['Chat_ID'].unique()"
   ]
  },
  {
   "cell_type": "code",
   "execution_count": 4,
   "metadata": {},
   "outputs": [
    {
     "data": {
      "text/html": [
       "<div>\n",
       "<style scoped>\n",
       "    .dataframe tbody tr th:only-of-type {\n",
       "        vertical-align: middle;\n",
       "    }\n",
       "\n",
       "    .dataframe tbody tr th {\n",
       "        vertical-align: top;\n",
       "    }\n",
       "\n",
       "    .dataframe thead th {\n",
       "        text-align: right;\n",
       "    }\n",
       "</style>\n",
       "<table border=\"1\" class=\"dataframe\">\n",
       "  <thead>\n",
       "    <tr style=\"text-align: right;\">\n",
       "      <th></th>\n",
       "      <th>Chat_ID</th>\n",
       "      <th>Message_ID</th>\n",
       "      <th>Sender</th>\n",
       "      <th>Message</th>\n",
       "    </tr>\n",
       "  </thead>\n",
       "  <tbody>\n",
       "    <tr>\n",
       "      <th>0</th>\n",
       "      <td>travel</td>\n",
       "      <td>0</td>\n",
       "      <td>user</td>\n",
       "      <td>Can you recommend top 10 places to travel in E...</td>\n",
       "    </tr>\n",
       "    <tr>\n",
       "      <th>1</th>\n",
       "      <td>travel</td>\n",
       "      <td>1</td>\n",
       "      <td>copilot</td>\n",
       "      <td>Sure! Here are ten of the safest places to tra...</td>\n",
       "    </tr>\n",
       "    <tr>\n",
       "      <th>2</th>\n",
       "      <td>travel</td>\n",
       "      <td>2</td>\n",
       "      <td>user</td>\n",
       "      <td>What is the most searched topic for those peop...</td>\n",
       "    </tr>\n",
       "    <tr>\n",
       "      <th>3</th>\n",
       "      <td>travel</td>\n",
       "      <td>3</td>\n",
       "      <td>copilot</td>\n",
       "      <td>One of the most searched topics for travelers ...</td>\n",
       "    </tr>\n",
       "    <tr>\n",
       "      <th>4</th>\n",
       "      <td>travel</td>\n",
       "      <td>4</td>\n",
       "      <td>user</td>\n",
       "      <td>I am curious to know what other people are int...</td>\n",
       "    </tr>\n",
       "  </tbody>\n",
       "</table>\n",
       "</div>"
      ],
      "text/plain": [
       "  Chat_ID  Message_ID   Sender   \n",
       "0  travel           0     user  \\\n",
       "1  travel           1  copilot   \n",
       "2  travel           2     user   \n",
       "3  travel           3  copilot   \n",
       "4  travel           4     user   \n",
       "\n",
       "                                             Message  \n",
       "0  Can you recommend top 10 places to travel in E...  \n",
       "1  Sure! Here are ten of the safest places to tra...  \n",
       "2  What is the most searched topic for those peop...  \n",
       "3  One of the most searched topics for travelers ...  \n",
       "4  I am curious to know what other people are int...  "
      ]
     },
     "execution_count": 4,
     "metadata": {},
     "output_type": "execute_result"
    }
   ],
   "source": [
    "travel_chat = df[df['Chat_ID']=='travel']\n",
    "travel_chat.reset_index(drop=True, inplace=True)\n",
    "\n",
    "travel_chat.head()"
   ]
  },
  {
   "cell_type": "markdown",
   "metadata": {},
   "source": [
    "## SpaCy"
   ]
  },
  {
   "cell_type": "code",
   "execution_count": 5,
   "metadata": {},
   "outputs": [],
   "source": [
    "ner = spacy.load(\"en_core_web_lg\")\n",
    "\n",
    "def extract_entities(text):\n",
    "    doc = ner(text)\n",
    "    return [(ent.text, ent.label_) for ent in doc.ents]\n",
    "\n",
    "travel_chat.loc[:, 'Spacy_Ent'] = travel_chat['Message'].apply(extract_entities)"
   ]
  },
  {
   "cell_type": "code",
   "execution_count": 6,
   "metadata": {},
   "outputs": [],
   "source": [
    "travel_chat.loc[:, 'Spacy_Count'] = travel_chat['Spacy_Ent'].apply(len)"
   ]
  },
  {
   "cell_type": "code",
   "execution_count": 7,
   "metadata": {},
   "outputs": [
    {
     "data": {
      "text/html": [
       "<div>\n",
       "<style scoped>\n",
       "    .dataframe tbody tr th:only-of-type {\n",
       "        vertical-align: middle;\n",
       "    }\n",
       "\n",
       "    .dataframe tbody tr th {\n",
       "        vertical-align: top;\n",
       "    }\n",
       "\n",
       "    .dataframe thead th {\n",
       "        text-align: right;\n",
       "    }\n",
       "</style>\n",
       "<table border=\"1\" class=\"dataframe\">\n",
       "  <thead>\n",
       "    <tr style=\"text-align: right;\">\n",
       "      <th></th>\n",
       "      <th>Chat_ID</th>\n",
       "      <th>Message_ID</th>\n",
       "      <th>Sender</th>\n",
       "      <th>Message</th>\n",
       "      <th>Spacy_Ent</th>\n",
       "      <th>Spacy_Count</th>\n",
       "    </tr>\n",
       "  </thead>\n",
       "  <tbody>\n",
       "    <tr>\n",
       "      <th>0</th>\n",
       "      <td>travel</td>\n",
       "      <td>0</td>\n",
       "      <td>user</td>\n",
       "      <td>Can you recommend top 10 places to travel in E...</td>\n",
       "      <td>[(10, CARDINAL), (East Asia, LOC)]</td>\n",
       "      <td>2</td>\n",
       "    </tr>\n",
       "    <tr>\n",
       "      <th>1</th>\n",
       "      <td>travel</td>\n",
       "      <td>1</td>\n",
       "      <td>copilot</td>\n",
       "      <td>Sure! Here are ten of the safest places to tra...</td>\n",
       "      <td>[(ten, CARDINAL), (East Asia, LOC), (Singapore...</td>\n",
       "      <td>28</td>\n",
       "    </tr>\n",
       "    <tr>\n",
       "      <th>2</th>\n",
       "      <td>travel</td>\n",
       "      <td>2</td>\n",
       "      <td>user</td>\n",
       "      <td>What is the most searched topic for those peop...</td>\n",
       "      <td>[(Taiwan, GPE)]</td>\n",
       "      <td>1</td>\n",
       "    </tr>\n",
       "  </tbody>\n",
       "</table>\n",
       "</div>"
      ],
      "text/plain": [
       "  Chat_ID  Message_ID   Sender   \n",
       "0  travel           0     user  \\\n",
       "1  travel           1  copilot   \n",
       "2  travel           2     user   \n",
       "\n",
       "                                             Message   \n",
       "0  Can you recommend top 10 places to travel in E...  \\\n",
       "1  Sure! Here are ten of the safest places to tra...   \n",
       "2  What is the most searched topic for those peop...   \n",
       "\n",
       "                                           Spacy_Ent  Spacy_Count  \n",
       "0                 [(10, CARDINAL), (East Asia, LOC)]            2  \n",
       "1  [(ten, CARDINAL), (East Asia, LOC), (Singapore...           28  \n",
       "2                                    [(Taiwan, GPE)]            1  "
      ]
     },
     "execution_count": 7,
     "metadata": {},
     "output_type": "execute_result"
    }
   ],
   "source": [
    "travel_chat.head(3)"
   ]
  },
  {
   "cell_type": "code",
   "execution_count": 17,
   "metadata": {},
   "outputs": [
    {
     "data": {
      "text/plain": [
       "'Nationalities or religious or political groups'"
      ]
     },
     "execution_count": 17,
     "metadata": {},
     "output_type": "execute_result"
    }
   ],
   "source": [
    "spacy.explain(\"NORP\") # To find the explanation of the tag."
   ]
  },
  {
   "cell_type": "markdown",
   "metadata": {},
   "source": [
    "### Displacy"
   ]
  },
  {
   "cell_type": "code",
   "execution_count": 9,
   "metadata": {},
   "outputs": [
    {
     "data": {
      "text/plain": [
       "'Can you recommend top 10 places to travel in East Asia where the public security is considered very safe?'"
      ]
     },
     "execution_count": 9,
     "metadata": {},
     "output_type": "execute_result"
    }
   ],
   "source": [
    "travel_chat.iloc[0]['Message']"
   ]
  },
  {
   "cell_type": "code",
   "execution_count": 21,
   "metadata": {},
   "outputs": [
    {
     "data": {
      "text/html": [
       "<span class=\"tex2jax_ignore\"><div class=\"entities\" style=\"line-height: 2.5; direction: ltr\">\n",
       "<mark class=\"entity\" style=\"background: #feca74; padding: 0.45em 0.6em; margin: 0 0.25em; line-height: 1; border-radius: 0.35em;\">\n",
       "    Singapore\n",
       "    <span style=\"font-size: 0.8em; font-weight: bold; line-height: 1; border-radius: 0.35em; vertical-align: middle; margin-left: 0.5rem\">GPE</span>\n",
       "</mark>\n",
       " sounds like a fantastic choice, especially with its amazing food scene! Revisiting as an adult will definitely give you a whole new perspective.<br>If I could travel to \n",
       "<mark class=\"entity\" style=\"background: #feca74; padding: 0.45em 0.6em; margin: 0 0.25em; line-height: 1; border-radius: 0.35em;\">\n",
       "    Japan\n",
       "    <span style=\"font-size: 0.8em; font-weight: bold; line-height: 1; border-radius: 0.35em; vertical-align: middle; margin-left: 0.5rem\">GPE</span>\n",
       "</mark>\n",
       ", the \n",
       "<mark class=\"entity\" style=\"background: #e4e7d2; padding: 0.45em 0.6em; margin: 0 0.25em; line-height: 1; border-radius: 0.35em;\">\n",
       "    first\n",
       "    <span style=\"font-size: 0.8em; font-weight: bold; line-height: 1; border-radius: 0.35em; vertical-align: middle; margin-left: 0.5rem\">ORDINAL</span>\n",
       "</mark>\n",
       " thing I'd want to do on \n",
       "<mark class=\"entity\" style=\"background: #bfe1d9; padding: 0.45em 0.6em; margin: 0 0.25em; line-height: 1; border-radius: 0.35em;\">\n",
       "    the first day\n",
       "    <span style=\"font-size: 0.8em; font-weight: bold; line-height: 1; border-radius: 0.35em; vertical-align: middle; margin-left: 0.5rem\">DATE</span>\n",
       "</mark>\n",
       " is visit \n",
       "<mark class=\"entity\" style=\"background: #aa9cfc; padding: 0.45em 0.6em; margin: 0 0.25em; line-height: 1; border-radius: 0.35em;\">\n",
       "    Asakusa\n",
       "    <span style=\"font-size: 0.8em; font-weight: bold; line-height: 1; border-radius: 0.35em; vertical-align: middle; margin-left: 0.5rem\">PERSON</span>\n",
       "</mark>\n",
       " in \n",
       "<mark class=\"entity\" style=\"background: #feca74; padding: 0.45em 0.6em; margin: 0 0.25em; line-height: 1; border-radius: 0.35em;\">\n",
       "    Tokyo\n",
       "    <span style=\"font-size: 0.8em; font-weight: bold; line-height: 1; border-radius: 0.35em; vertical-align: middle; margin-left: 0.5rem\">GPE</span>\n",
       "</mark>\n",
       ". It's home to the famous \n",
       "<mark class=\"entity\" style=\"background: #9cc9cc; padding: 0.45em 0.6em; margin: 0 0.25em; line-height: 1; border-radius: 0.35em;\">\n",
       "    Senso-ji Temple\n",
       "    <span style=\"font-size: 0.8em; font-weight: bold; line-height: 1; border-radius: 0.35em; vertical-align: middle; margin-left: 0.5rem\">FAC</span>\n",
       "</mark>\n",
       ", \n",
       "<mark class=\"entity\" style=\"background: #feca74; padding: 0.45em 0.6em; margin: 0 0.25em; line-height: 1; border-radius: 0.35em;\">\n",
       "    Tokyo\n",
       "    <span style=\"font-size: 0.8em; font-weight: bold; line-height: 1; border-radius: 0.35em; vertical-align: middle; margin-left: 0.5rem\">GPE</span>\n",
       "</mark>\n",
       "'s oldest temple, which offers a beautiful blend of history and culture. The area around the temple, known as \n",
       "<mark class=\"entity\" style=\"background: #9cc9cc; padding: 0.45em 0.6em; margin: 0 0.25em; line-height: 1; border-radius: 0.35em;\">\n",
       "    Nakamise Street\n",
       "    <span style=\"font-size: 0.8em; font-weight: bold; line-height: 1; border-radius: 0.35em; vertical-align: middle; margin-left: 0.5rem\">FAC</span>\n",
       "</mark>\n",
       ", is filled with traditional shops and street food stalls where you can try local snacks like taiyaki (fish-shaped cakes filled with sweet red bean paste) and \n",
       "<mark class=\"entity\" style=\"background: #7aecec; padding: 0.45em 0.6em; margin: 0 0.25em; line-height: 1; border-radius: 0.35em;\">\n",
       "    kibi dango\n",
       "    <span style=\"font-size: 0.8em; font-weight: bold; line-height: 1; border-radius: 0.35em; vertical-align: middle; margin-left: 0.5rem\">ORG</span>\n",
       "</mark>\n",
       " (sweet rice dumplings).<br>After exploring \n",
       "<mark class=\"entity\" style=\"background: #aa9cfc; padding: 0.45em 0.6em; margin: 0 0.25em; line-height: 1; border-radius: 0.35em;\">\n",
       "    Asakusa\n",
       "    <span style=\"font-size: 0.8em; font-weight: bold; line-height: 1; border-radius: 0.35em; vertical-align: middle; margin-left: 0.5rem\">PERSON</span>\n",
       "</mark>\n",
       ", I'd probably head to a nearby onsen (hot spring) to relax and unwind from the journey. It's a perfect way to experience a traditional \n",
       "<mark class=\"entity\" style=\"background: #c887fb; padding: 0.45em 0.6em; margin: 0 0.25em; line-height: 1; border-radius: 0.35em;\">\n",
       "    Japanese\n",
       "    <span style=\"font-size: 0.8em; font-weight: bold; line-height: 1; border-radius: 0.35em; vertical-align: middle; margin-left: 0.5rem\">NORP</span>\n",
       "</mark>\n",
       " bath and soak in the local culture.<br>What about you? What's the \n",
       "<mark class=\"entity\" style=\"background: #e4e7d2; padding: 0.45em 0.6em; margin: 0 0.25em; line-height: 1; border-radius: 0.35em;\">\n",
       "    first\n",
       "    <span style=\"font-size: 0.8em; font-weight: bold; line-height: 1; border-radius: 0.35em; vertical-align: middle; margin-left: 0.5rem\">ORDINAL</span>\n",
       "</mark>\n",
       " thing you'd like to do when you visit \n",
       "<mark class=\"entity\" style=\"background: #feca74; padding: 0.45em 0.6em; margin: 0 0.25em; line-height: 1; border-radius: 0.35em;\">\n",
       "    Singapore\n",
       "    <span style=\"font-size: 0.8em; font-weight: bold; line-height: 1; border-radius: 0.35em; vertical-align: middle; margin-left: 0.5rem\">GPE</span>\n",
       "</mark>\n",
       " again?</div></span>"
      ],
      "text/plain": [
       "<IPython.core.display.HTML object>"
      ]
     },
     "metadata": {},
     "output_type": "display_data"
    }
   ],
   "source": [
    "displacy.render(ner(travel_chat.iloc[7]['Message']), style=\"ent\", jupyter=True)"
   ]
  },
  {
   "cell_type": "code",
   "execution_count": 11,
   "metadata": {},
   "outputs": [
    {
     "name": "stdout",
     "output_type": "stream",
     "text": [
      "['Can', 'you', 'recommend', 'top', '10', 'places', 'to', 'travel', 'in', 'East', 'Asia', 'where', 'the', 'public', 'security', 'is', 'considered', 'very', 'safe', '?']\n"
     ]
    }
   ],
   "source": [
    "message = travel_chat.iloc[0]['Message']\n",
    "\n",
    "doc = ner(message) # process message with model\n",
    "\n",
    "print([token.text for token in doc]) # print the token"
   ]
  },
  {
   "cell_type": "code",
   "execution_count": 12,
   "metadata": {},
   "outputs": [
    {
     "name": "stdout",
     "output_type": "stream",
     "text": [
      "California GPE\n",
      "today DATE\n"
     ]
    }
   ],
   "source": [
    "# Sample text\n",
    "text = \"There was an earthquake in California today.\"\n",
    "\n",
    "# Process the text\n",
    "doc = ner(text)\n",
    "\n",
    "# Extract named entities\n",
    "for ent in doc.ents:\n",
    "    print(ent.text, ent.label_)"
   ]
  },
  {
   "cell_type": "markdown",
   "metadata": {},
   "source": [
    "## Flair"
   ]
  },
  {
   "cell_type": "code",
   "execution_count": 13,
   "metadata": {},
   "outputs": [
    {
     "name": "stdout",
     "output_type": "stream",
     "text": [
      "2024-09-11 13:08:32,658 SequenceTagger predicts: Dictionary with 20 tags: <unk>, O, S-ORG, S-MISC, B-PER, E-PER, S-LOC, B-ORG, E-ORG, I-PER, S-PER, B-MISC, I-MISC, E-MISC, I-ORG, B-LOC, E-LOC, I-LOC, <START>, <STOP>\n"
     ]
    }
   ],
   "source": [
    "# Load the NER tagger\n",
    "tagger = SequenceTagger.load('ner')\n",
    "\n",
    "# Function to extract named entities\n",
    "def extract_entities(text):\n",
    "    sentence = Sentence(text)\n",
    "    tagger.predict(sentence)\n",
    "    return [(entity.text, entity.tag) for entity in sentence.get_spans('ner')]\n",
    "\n",
    "\n",
    "travel_chat.loc[:,'Flair_Ent'] = travel_chat['Message'].apply(extract_entities)"
   ]
  },
  {
   "cell_type": "code",
   "execution_count": 14,
   "metadata": {},
   "outputs": [],
   "source": [
    "travel_chat.loc[:, 'Flair_Count'] = travel_chat['Flair_Ent'].apply(len)"
   ]
  },
  {
   "cell_type": "code",
   "execution_count": 15,
   "metadata": {},
   "outputs": [
    {
     "data": {
      "text/html": [
       "<div>\n",
       "<style scoped>\n",
       "    .dataframe tbody tr th:only-of-type {\n",
       "        vertical-align: middle;\n",
       "    }\n",
       "\n",
       "    .dataframe tbody tr th {\n",
       "        vertical-align: top;\n",
       "    }\n",
       "\n",
       "    .dataframe thead th {\n",
       "        text-align: right;\n",
       "    }\n",
       "</style>\n",
       "<table border=\"1\" class=\"dataframe\">\n",
       "  <thead>\n",
       "    <tr style=\"text-align: right;\">\n",
       "      <th></th>\n",
       "      <th>Chat_ID</th>\n",
       "      <th>Message_ID</th>\n",
       "      <th>Sender</th>\n",
       "      <th>Message</th>\n",
       "      <th>Spacy_Ent</th>\n",
       "      <th>Spacy_Count</th>\n",
       "      <th>Flair_Ent</th>\n",
       "      <th>Flair_Count</th>\n",
       "    </tr>\n",
       "  </thead>\n",
       "  <tbody>\n",
       "    <tr>\n",
       "      <th>0</th>\n",
       "      <td>travel</td>\n",
       "      <td>0</td>\n",
       "      <td>user</td>\n",
       "      <td>Can you recommend top 10 places to travel in E...</td>\n",
       "      <td>[(10, CARDINAL), (East Asia, LOC)]</td>\n",
       "      <td>2</td>\n",
       "      <td>[(East Asia, LOC)]</td>\n",
       "      <td>1</td>\n",
       "    </tr>\n",
       "    <tr>\n",
       "      <th>1</th>\n",
       "      <td>travel</td>\n",
       "      <td>1</td>\n",
       "      <td>copilot</td>\n",
       "      <td>Sure! Here are ten of the safest places to tra...</td>\n",
       "      <td>[(ten, CARDINAL), (East Asia, LOC), (Singapore...</td>\n",
       "      <td>28</td>\n",
       "      <td>[(East Asia, LOC), (Singapore, LOC), (Singapor...</td>\n",
       "      <td>23</td>\n",
       "    </tr>\n",
       "    <tr>\n",
       "      <th>2</th>\n",
       "      <td>travel</td>\n",
       "      <td>2</td>\n",
       "      <td>user</td>\n",
       "      <td>What is the most searched topic for those peop...</td>\n",
       "      <td>[(Taiwan, GPE)]</td>\n",
       "      <td>1</td>\n",
       "      <td>[(Taiwan, LOC)]</td>\n",
       "      <td>1</td>\n",
       "    </tr>\n",
       "    <tr>\n",
       "      <th>3</th>\n",
       "      <td>travel</td>\n",
       "      <td>3</td>\n",
       "      <td>copilot</td>\n",
       "      <td>One of the most searched topics for travelers ...</td>\n",
       "      <td>[(One, CARDINAL), (Taiwan, GPE), (Taiwan, GPE)...</td>\n",
       "      <td>9</td>\n",
       "      <td>[(Taiwan, LOC), (Taiwan, LOC), (EasyCard, MISC...</td>\n",
       "      <td>7</td>\n",
       "    </tr>\n",
       "    <tr>\n",
       "      <th>4</th>\n",
       "      <td>travel</td>\n",
       "      <td>4</td>\n",
       "      <td>user</td>\n",
       "      <td>I am curious to know what other people are int...</td>\n",
       "      <td>[(10, CARDINAL)]</td>\n",
       "      <td>1</td>\n",
       "      <td>[]</td>\n",
       "      <td>0</td>\n",
       "    </tr>\n",
       "  </tbody>\n",
       "</table>\n",
       "</div>"
      ],
      "text/plain": [
       "  Chat_ID  Message_ID   Sender   \n",
       "0  travel           0     user  \\\n",
       "1  travel           1  copilot   \n",
       "2  travel           2     user   \n",
       "3  travel           3  copilot   \n",
       "4  travel           4     user   \n",
       "\n",
       "                                             Message   \n",
       "0  Can you recommend top 10 places to travel in E...  \\\n",
       "1  Sure! Here are ten of the safest places to tra...   \n",
       "2  What is the most searched topic for those peop...   \n",
       "3  One of the most searched topics for travelers ...   \n",
       "4  I am curious to know what other people are int...   \n",
       "\n",
       "                                           Spacy_Ent  Spacy_Count   \n",
       "0                 [(10, CARDINAL), (East Asia, LOC)]            2  \\\n",
       "1  [(ten, CARDINAL), (East Asia, LOC), (Singapore...           28   \n",
       "2                                    [(Taiwan, GPE)]            1   \n",
       "3  [(One, CARDINAL), (Taiwan, GPE), (Taiwan, GPE)...            9   \n",
       "4                                   [(10, CARDINAL)]            1   \n",
       "\n",
       "                                           Flair_Ent  Flair_Count  \n",
       "0                                 [(East Asia, LOC)]            1  \n",
       "1  [(East Asia, LOC), (Singapore, LOC), (Singapor...           23  \n",
       "2                                    [(Taiwan, LOC)]            1  \n",
       "3  [(Taiwan, LOC), (Taiwan, LOC), (EasyCard, MISC...            7  \n",
       "4                                                 []            0  "
      ]
     },
     "execution_count": 15,
     "metadata": {},
     "output_type": "execute_result"
    }
   ],
   "source": [
    "travel_chat.head()"
   ]
  },
  {
   "cell_type": "code",
   "execution_count": 24,
   "metadata": {},
   "outputs": [
    {
     "data": {
      "text/html": [
       "<div>\n",
       "<style scoped>\n",
       "    .dataframe tbody tr th:only-of-type {\n",
       "        vertical-align: middle;\n",
       "    }\n",
       "\n",
       "    .dataframe tbody tr th {\n",
       "        vertical-align: top;\n",
       "    }\n",
       "\n",
       "    .dataframe thead th {\n",
       "        text-align: right;\n",
       "    }\n",
       "</style>\n",
       "<table border=\"1\" class=\"dataframe\">\n",
       "  <thead>\n",
       "    <tr style=\"text-align: right;\">\n",
       "      <th></th>\n",
       "      <th>Spacy_Ent</th>\n",
       "      <th>Flair_Ent</th>\n",
       "    </tr>\n",
       "  </thead>\n",
       "  <tbody>\n",
       "    <tr>\n",
       "      <th>0</th>\n",
       "      <td>[(10, CARDINAL), (East Asia, LOC)]</td>\n",
       "      <td>[(East Asia, LOC)]</td>\n",
       "    </tr>\n",
       "    <tr>\n",
       "      <th>1</th>\n",
       "      <td>[(ten, CARDINAL), (East Asia, LOC), (Singapore, GPE), (Singapore, GPE), (one, CARDINAL), (Japan, GPE), (Japan, GPE), (South Korea, GPE), (South Korea, GPE), (Taiwan, GPE), (Taiwan, GPE), (Hong Kong, GPE), (Hong Kong, GPE), (Malaysia, GPE), (Kuala Lumpur, GPE), (Penang, GPE), (Malaysia, GPE), (Vietnam, GPE), (Hanoi, GPE), (Ho Chi Minh City, PERSON), (Mongolia, GPE), (Mongolia, GPE), (Bhutan, GPE), (Gross National Happiness, ORG), (Brunei, GPE), (Brunei, GPE), (Storyteller Travel, ORG), (Nomad, ORG)]</td>\n",
       "      <td>[(East Asia, LOC), (Singapore, LOC), (Singapore, LOC), (Japan, LOC), (Japan, LOC), (South Korea, LOC), (South Korea, LOC), (Taiwan, LOC), (Taiwan, LOC), (Hong Kong, LOC), (Hong Kong, LOC), (Malaysia, LOC), (Kuala Lumpur, LOC), (Penang, LOC), (Malaysia, LOC), (Vietnam, LOC), (Hanoi, LOC), (Ho Chi Minh City, LOC), (Mongolia, LOC), (Mongolia, LOC), (Bhutan, LOC), (Brunei, LOC), (Brunei, LOC)]</td>\n",
       "    </tr>\n",
       "    <tr>\n",
       "      <th>2</th>\n",
       "      <td>[(Taiwan, GPE)]</td>\n",
       "      <td>[(Taiwan, LOC)]</td>\n",
       "    </tr>\n",
       "    <tr>\n",
       "      <th>3</th>\n",
       "      <td>[(One, CARDINAL), (Taiwan, GPE), (Taiwan, GPE), (Travelers, ORG), (Taiwan, GPE), (Taiwan, GPE), (Taiwan, GPE), (Lonely Planet, WORK_OF_ART), (The Sandy Feet, WORK_OF_ART)]</td>\n",
       "      <td>[(Taiwan, LOC), (Taiwan, LOC), (EasyCard, MISC), (Taiwan, LOC), (Taiwan, LOC), (Taiwan, LOC), (Lonely Planet : The Sandy Feet, MISC)]</td>\n",
       "    </tr>\n",
       "    <tr>\n",
       "      <th>4</th>\n",
       "      <td>[(10, CARDINAL)]</td>\n",
       "      <td>[]</td>\n",
       "    </tr>\n",
       "    <tr>\n",
       "      <th>5</th>\n",
       "      <td>[(Japan, GPE), (Tokyo, GPE)]</td>\n",
       "      <td>[(Japan, LOC), (Tokyo, LOC)]</td>\n",
       "    </tr>\n",
       "    <tr>\n",
       "      <th>6</th>\n",
       "      <td>[(Singapore, GPE), (Singapore, GPE), (Japan, GPE), (first, ORDINAL), (the first day, DATE)]</td>\n",
       "      <td>[(Singapore, LOC), (Singapore, LOC), (Japan, LOC)]</td>\n",
       "    </tr>\n",
       "    <tr>\n",
       "      <th>7</th>\n",
       "      <td>[(Singapore, GPE), (Japan, GPE), (first, ORDINAL), (the first day, DATE), (Asakusa, PERSON), (Tokyo, GPE), (Senso-ji Temple, FAC), (Tokyo, GPE), (Nakamise Street, FAC), (kibi dango, ORG), (Asakusa, PERSON), (Japanese, NORP), (first, ORDINAL), (Singapore, GPE)]</td>\n",
       "      <td>[(Singapore, LOC), (Japan, LOC), (Asakusa, LOC), (Tokyo, LOC), (Senso-ji Temple, LOC), (Tokyo, LOC), (Nakamise Street, LOC), (Asakusa, LOC), (Japanese, MISC), (Singapore, LOC)]</td>\n",
       "    </tr>\n",
       "    <tr>\n",
       "      <th>8</th>\n",
       "      <td>[(Singaporean, NORP), (laksa, satay, ORG), (bak kut teh, PERSON), (marina, LOC), (10, CARDINAL)]</td>\n",
       "      <td>[(Singaporean, MISC)]</td>\n",
       "    </tr>\n",
       "    <tr>\n",
       "      <th>9</th>\n",
       "      <td>[(Singapore, GPE), (10, CARDINAL), (Taiwan, GPE), (the first day, DATE), (Taipei, GPE), (Shilin Night Market, FAC), (Taipei, GPE), (Jiufen, ORG)]</td>\n",
       "      <td>[(Singapore, LOC), (Taiwan, LOC), (Taipei, LOC), (Shilin Night Market, LOC), (Taipei, LOC), (Jiufen, LOC)]</td>\n",
       "    </tr>\n",
       "  </tbody>\n",
       "</table>\n",
       "</div>"
      ],
      "text/plain": [
       "                                                                                                                                                                                                                                                                                                                                                                                                                                                                                                                 Spacy_Ent   \n",
       "0                                                                                                                                                                                                                                                                                                                                                                                                                                                                                       [(10, CARDINAL), (East Asia, LOC)]  \\\n",
       "1  [(ten, CARDINAL), (East Asia, LOC), (Singapore, GPE), (Singapore, GPE), (one, CARDINAL), (Japan, GPE), (Japan, GPE), (South Korea, GPE), (South Korea, GPE), (Taiwan, GPE), (Taiwan, GPE), (Hong Kong, GPE), (Hong Kong, GPE), (Malaysia, GPE), (Kuala Lumpur, GPE), (Penang, GPE), (Malaysia, GPE), (Vietnam, GPE), (Hanoi, GPE), (Ho Chi Minh City, PERSON), (Mongolia, GPE), (Mongolia, GPE), (Bhutan, GPE), (Gross National Happiness, ORG), (Brunei, GPE), (Brunei, GPE), (Storyteller Travel, ORG), (Nomad, ORG)]   \n",
       "2                                                                                                                                                                                                                                                                                                                                                                                                                                                                                                          [(Taiwan, GPE)]   \n",
       "3                                                                                                                                                                                                                                                                                                                                              [(One, CARDINAL), (Taiwan, GPE), (Taiwan, GPE), (Travelers, ORG), (Taiwan, GPE), (Taiwan, GPE), (Taiwan, GPE), (Lonely Planet, WORK_OF_ART), (The Sandy Feet, WORK_OF_ART)]   \n",
       "4                                                                                                                                                                                                                                                                                                                                                                                                                                                                                                         [(10, CARDINAL)]   \n",
       "5                                                                                                                                                                                                                                                                                                                                                                                                                                                                                             [(Japan, GPE), (Tokyo, GPE)]   \n",
       "6                                                                                                                                                                                                                                                                                                                                                                                                                              [(Singapore, GPE), (Singapore, GPE), (Japan, GPE), (first, ORDINAL), (the first day, DATE)]   \n",
       "7                                                                                                                                                                                                                                                     [(Singapore, GPE), (Japan, GPE), (first, ORDINAL), (the first day, DATE), (Asakusa, PERSON), (Tokyo, GPE), (Senso-ji Temple, FAC), (Tokyo, GPE), (Nakamise Street, FAC), (kibi dango, ORG), (Asakusa, PERSON), (Japanese, NORP), (first, ORDINAL), (Singapore, GPE)]   \n",
       "8                                                                                                                                                                                                                                                                                                                                                                                                                         [(Singaporean, NORP), (laksa, satay, ORG), (bak kut teh, PERSON), (marina, LOC), (10, CARDINAL)]   \n",
       "9                                                                                                                                                                                                                                                                                                                                                                        [(Singapore, GPE), (10, CARDINAL), (Taiwan, GPE), (the first day, DATE), (Taipei, GPE), (Shilin Night Market, FAC), (Taipei, GPE), (Jiufen, ORG)]   \n",
       "\n",
       "                                                                                                                                                                                                                                                                                                                                                                                                  Flair_Ent  \n",
       "0                                                                                                                                                                                                                                                                                                                                                                                        [(East Asia, LOC)]  \n",
       "1  [(East Asia, LOC), (Singapore, LOC), (Singapore, LOC), (Japan, LOC), (Japan, LOC), (South Korea, LOC), (South Korea, LOC), (Taiwan, LOC), (Taiwan, LOC), (Hong Kong, LOC), (Hong Kong, LOC), (Malaysia, LOC), (Kuala Lumpur, LOC), (Penang, LOC), (Malaysia, LOC), (Vietnam, LOC), (Hanoi, LOC), (Ho Chi Minh City, LOC), (Mongolia, LOC), (Mongolia, LOC), (Bhutan, LOC), (Brunei, LOC), (Brunei, LOC)]  \n",
       "2                                                                                                                                                                                                                                                                                                                                                                                           [(Taiwan, LOC)]  \n",
       "3                                                                                                                                                                                                                                                                     [(Taiwan, LOC), (Taiwan, LOC), (EasyCard, MISC), (Taiwan, LOC), (Taiwan, LOC), (Taiwan, LOC), (Lonely Planet : The Sandy Feet, MISC)]  \n",
       "4                                                                                                                                                                                                                                                                                                                                                                                                        []  \n",
       "5                                                                                                                                                                                                                                                                                                                                                                              [(Japan, LOC), (Tokyo, LOC)]  \n",
       "6                                                                                                                                                                                                                                                                                                                                                        [(Singapore, LOC), (Singapore, LOC), (Japan, LOC)]  \n",
       "7                                                                                                                                                                                                                          [(Singapore, LOC), (Japan, LOC), (Asakusa, LOC), (Tokyo, LOC), (Senso-ji Temple, LOC), (Tokyo, LOC), (Nakamise Street, LOC), (Asakusa, LOC), (Japanese, MISC), (Singapore, LOC)]  \n",
       "8                                                                                                                                                                                                                                                                                                                                                                                     [(Singaporean, MISC)]  \n",
       "9                                                                                                                                                                                                                                                                                                [(Singapore, LOC), (Taiwan, LOC), (Taipei, LOC), (Shilin Night Market, LOC), (Taipei, LOC), (Jiufen, LOC)]  "
      ]
     },
     "execution_count": 24,
     "metadata": {},
     "output_type": "execute_result"
    }
   ],
   "source": [
    "travel_chat[['Spacy_Ent', 'Flair_Ent']].head(10)"
   ]
  },
  {
   "cell_type": "code",
   "execution_count": 25,
   "metadata": {},
   "outputs": [
    {
     "data": {
      "text/plain": [
       "'Buildings, airports, highways, bridges, etc.'"
      ]
     },
     "execution_count": 25,
     "metadata": {},
     "output_type": "execute_result"
    }
   ],
   "source": [
    "spacy.explain(\"FAC\")"
   ]
  },
  {
   "cell_type": "code",
   "execution_count": 20,
   "metadata": {},
   "outputs": [
    {
     "data": {
      "text/plain": [
       "\"Singapore sounds like a fantastic choice, especially with its amazing food scene! Revisiting as an adult will definitely give you a whole new perspective.\\nIf I could travel to Japan, the first thing I'd want to do on the first day is visit Asakusa in Tokyo. It's home to the famous Senso-ji Temple, Tokyo's oldest temple, which offers a beautiful blend of history and culture. The area around the temple, known as Nakamise Street, is filled with traditional shops and street food stalls where you can try local snacks like taiyaki (fish-shaped cakes filled with sweet red bean paste) and kibi dango (sweet rice dumplings).\\nAfter exploring Asakusa, I'd probably head to a nearby onsen (hot spring) to relax and unwind from the journey. It's a perfect way to experience a traditional Japanese bath and soak in the local culture.\\nWhat about you? What's the first thing you'd like to do when you visit Singapore again?\""
      ]
     },
     "execution_count": 20,
     "metadata": {},
     "output_type": "execute_result"
    }
   ],
   "source": [
    "travel_chat.iloc[7]['Message']"
   ]
  },
  {
   "cell_type": "markdown",
   "metadata": {},
   "source": [
    "- SpaCy takes a second to extract the entities while Flair takes a minute to extract entities.\n",
    "- Spacy extracts cardinal and miscellaneous but accuracy wise Flair seems more accurate.\n",
    "    - index 7: Asakusa is not a person it's a place -> Spacy marked as a Person while Flair marked as a Location\n",
    "    - index 8: laksa satay, bak kut teh is not a Person, it's a food"
   ]
  }
 ],
 "metadata": {
  "kernelspec": {
   "display_name": "Python 3",
   "language": "python",
   "name": "python3"
  },
  "language_info": {
   "codemirror_mode": {
    "name": "ipython",
    "version": 3
   },
   "file_extension": ".py",
   "mimetype": "text/x-python",
   "name": "python",
   "nbconvert_exporter": "python",
   "pygments_lexer": "ipython3",
   "version": "3.11.3"
  }
 },
 "nbformat": 4,
 "nbformat_minor": 2
}
